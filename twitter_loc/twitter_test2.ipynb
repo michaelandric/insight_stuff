{
 "cells": [
  {
   "cell_type": "code",
   "execution_count": 3,
   "metadata": {
    "collapsed": true
   },
   "outputs": [],
   "source": [
    "import tweepy\n",
    "import csv\n",
    "import pandas as pd\n",
    "import numpy as np\n",
    "from textblob import TextBlob\n",
    "import psycopg2\n",
    "\n",
    "consumer_key = '7Yh2ff3sSj1K451EzYD6fPmFJ'\n",
    "consumer_secret = 'eH4aMjOZjf87QFJnRAFSAp3ZBOutoaQpKySqut3zna3alOY9yS'\n",
    "access_token = '718226343897526272-dggANSmUFnfJcVAxYGND5JvwkGEN74F'\n",
    "access_token_secret = 'LKQUEtgGKThG7ddh4i8u2F45cdX26ojjiKWdbiktJEmz4'\n",
    "\n",
    "auth = tweepy.auth.OAuthHandler(consumer_key, consumer_secret)\n",
    "auth.set_access_token(access_token, access_token_secret)\n",
    "api = tweepy.API(auth)"
   ]
  },
  {
   "cell_type": "code",
   "execution_count": 34,
   "metadata": {
    "collapsed": true
   },
   "outputs": [],
   "source": [
    "import sys"
   ]
  },
  {
   "cell_type": "code",
   "execution_count": 208,
   "metadata": {
    "collapsed": false
   },
   "outputs": [],
   "source": [
    "# pulled_tweets = api.search(q='*', count=5000, geocode=\"34.0904489,-118.2305523,15km\")\n",
    "pulled_tweets = tweepy.Cursor(api.search,q=\"*\",count=1000,geocode=\"34.0904489,-118.2305523,25km\").items(1000)"
   ]
  },
  {
   "cell_type": "code",
   "execution_count": 333,
   "metadata": {
    "collapsed": false
   },
   "outputs": [],
   "source": [
    "with open('tweets_batch4.csv', 'w') as csvfile:\n",
    "    tweetwriter = csv.writer(csvfile, delimiter = ',')\n",
    "    for tweet in tweepy.Cursor(api.search,q=\"*\",count=5000,geocode=\"34.0904489,-118.2305523,15km\").items(5000):\n",
    "        #print tweet.user.screen_name.encode('utf-8'), tweet.text.encode('utf-8'), tweet.retweet_count\n",
    "        if hasattr(tweet, 'retweeted_status'):\n",
    "            rtweet = 1\n",
    "            rtweet_txt = tweet.retweeted_status.text.encode('utf-8')\n",
    "        else:\n",
    "            rtweet = 0\n",
    "            rtweet_txt = 'NO_RT'\n",
    "        tweetwriter.writerow([tweet.id_str, tweet.user.screen_name, tweet.user.followers_count, tweet.user.statuses_count, tweet.text.encode('utf-8'), rtweet, tweet.retweet_count, rtweet_txt, tweet.favorite_count])"
   ]
  },
  {
   "cell_type": "code",
   "execution_count": 40,
   "metadata": {
    "collapsed": false
   },
   "outputs": [
    {
     "name": "stdout",
     "output_type": "stream",
     "text": [
      "RT @IHateCathyChang: Magnolia . 🍭 https://t.co/OLeliO0h4r\n",
      "IHateCathyChang\n",
      "False\n",
      "1\n"
     ]
    }
   ],
   "source": [
    "print tweet.text.encode('utf-8')\n",
    "print tweet.user.screen_name.encode('utf-8')\n",
    "print tweet.retweeted\n",
    "print tweet.retweet_count"
   ]
  },
  {
   "cell_type": "code",
   "execution_count": 35,
   "metadata": {
    "collapsed": false
   },
   "outputs": [
    {
     "data": {
      "text/plain": [
       "'2017-06-06 00:28:15'"
      ]
     },
     "execution_count": 35,
     "metadata": {},
     "output_type": "execute_result"
    }
   ],
   "source": [
    "str(tweet.created_at)"
   ]
  },
  {
   "cell_type": "code",
   "execution_count": 44,
   "metadata": {
    "collapsed": false
   },
   "outputs": [
    {
     "data": {
      "text/plain": [
       "u'RT @IHateCathyChang: Magnolia . \\U0001f36d https://t.co/OLeliO0h4r'"
      ]
     },
     "execution_count": 44,
     "metadata": {},
     "output_type": "execute_result"
    }
   ],
   "source": [
    "tweet.text"
   ]
  },
  {
   "cell_type": "code",
   "execution_count": 46,
   "metadata": {
    "collapsed": false
   },
   "outputs": [],
   "source": [
    "import re"
   ]
  },
  {
   "cell_type": "code",
   "execution_count": 66,
   "metadata": {
    "collapsed": false
   },
   "outputs": [],
   "source": [
    "import emoji"
   ]
  },
  {
   "cell_type": "code",
   "execution_count": 96,
   "metadata": {
    "collapsed": false
   },
   "outputs": [
    {
     "name": "stdout",
     "output_type": "stream",
     "text": [
      "RT @IHateCathyChang: Magnolia . 🍭 https://t.co/OLeliO0h4r\n"
     ]
    }
   ],
   "source": [
    "print tweet.text.encode('utf-8')"
   ]
  },
  {
   "cell_type": "code",
   "execution_count": 182,
   "metadata": {
    "collapsed": false
   },
   "outputs": [
    {
     "name": "stdout",
     "output_type": "stream",
     "text": [
      "RT @IHateCathyChang: Magnolia . 🍭 https://t.co/OLeliO0h4r\n"
     ]
    }
   ],
   "source": [
    "print tweet.text"
   ]
  },
  {
   "cell_type": "code",
   "execution_count": 178,
   "metadata": {
    "collapsed": false
   },
   "outputs": [
    {
     "data": {
      "text/plain": [
       "100"
      ]
     },
     "execution_count": 178,
     "metadata": {},
     "output_type": "execute_result"
    }
   ],
   "source": [
    "len(pulled_tweets)"
   ]
  },
  {
   "cell_type": "code",
   "execution_count": 212,
   "metadata": {
    "collapsed": false
   },
   "outputs": [],
   "source": [
    "df = pd.read_csv('tweets_batch2.csv', header=None)"
   ]
  },
  {
   "cell_type": "code",
   "execution_count": 219,
   "metadata": {
    "collapsed": false
   },
   "outputs": [],
   "source": [
    "twt = pulled_tweets.next()"
   ]
  },
  {
   "cell_type": "code",
   "execution_count": 227,
   "metadata": {
    "collapsed": false
   },
   "outputs": [
    {
     "name": "stdout",
     "output_type": "stream",
     "text": [
      "yest\n"
     ]
    }
   ],
   "source": [
    "if hasattr (twt, 'retweeted_status'):\n",
    "    print 'yest'"
   ]
  },
  {
   "cell_type": "code",
   "execution_count": 228,
   "metadata": {
    "collapsed": false
   },
   "outputs": [
    {
     "data": {
      "text/plain": [
       "0                                   872003153142587392\n",
       "1                                            cowmilk22\n",
       "2    @danicaakristine If you aren't to someone than...\n",
       "3                                                    0\n",
       "4                                                    0\n",
       "5                                                  NaN\n",
       "6                                                    0\n",
       "Name: 0, dtype: object"
      ]
     },
     "execution_count": 228,
     "metadata": {},
     "output_type": "execute_result"
    }
   ],
   "source": [
    "df.iloc[0, :]"
   ]
  },
  {
   "cell_type": "code",
   "execution_count": 274,
   "metadata": {
    "collapsed": false
   },
   "outputs": [],
   "source": [
    "df2 = pd.read_csv('tweets_batch2.csv', header=None)"
   ]
  },
  {
   "cell_type": "code",
   "execution_count": 298,
   "metadata": {
    "collapsed": false
   },
   "outputs": [],
   "source": [
    "df1 = pd.read_csv('tweets_batch1.csv', header=None)"
   ]
  },
  {
   "cell_type": "code",
   "execution_count": 300,
   "metadata": {
    "collapsed": false
   },
   "outputs": [
    {
     "data": {
      "text/plain": [
       "(5000, 7)"
      ]
     },
     "execution_count": 300,
     "metadata": {},
     "output_type": "execute_result"
    }
   ],
   "source": [
    "df1.shape"
   ]
  },
  {
   "cell_type": "code",
   "execution_count": 296,
   "metadata": {
    "collapsed": false
   },
   "outputs": [
    {
     "data": {
      "text/plain": [
       "\"RT @csydelko: I think I'm finally becoming the online villain I was always destined to be\""
      ]
     },
     "execution_count": 296,
     "metadata": {},
     "output_type": "execute_result"
    }
   ],
   "source": [
    "df3.iloc[10, ]"
   ]
  },
  {
   "cell_type": "code",
   "execution_count": 301,
   "metadata": {
    "collapsed": false,
    "scrolled": true
   },
   "outputs": [
    {
     "data": {
      "text/plain": [
       "0                                   872220939328552962\n",
       "1                                        nathan_weiner\n",
       "2    RT @SFY: .@WhitlockJason: Colin Kaepernick is ...\n",
       "3                                                    1\n",
       "4                                                    7\n",
       "5    .@WhitlockJason: Colin Kaepernick is a polariz...\n",
       "6                                                    0\n",
       "Name: 0, dtype: object"
      ]
     },
     "execution_count": 301,
     "metadata": {},
     "output_type": "execute_result"
    }
   ],
   "source": [
    "df1.iloc[0, :]"
   ]
  },
  {
   "cell_type": "code",
   "execution_count": 277,
   "metadata": {
    "collapsed": false
   },
   "outputs": [
    {
     "name": "stdout",
     "output_type": "stream",
     "text": [
      "(5000, 7)\n",
      "(5000, 7)\n"
     ]
    }
   ],
   "source": [
    "print df2.shape\n",
    "print df4.shape"
   ]
  },
  {
   "cell_type": "code",
   "execution_count": 304,
   "metadata": {
    "collapsed": true
   },
   "outputs": [],
   "source": [
    "con = None\n",
    "\n",
    "create_stmnt = \"CREATE TABLE la_tweets(Id bigint PRIMARY KEY, username varchar NOT NULL, tweet varchar, rt_status smallint, rt_count integer, rt_tweet varchar, fav_count integer);\"\n",
    "\n",
    "try:\n",
    "     \n",
    "    con = psycopg2.connect(\"dbname='tweetdat' user='andric'\")   \n",
    "    \n",
    "    cur = con.cursor()\n",
    "    \n",
    "    cur.execute(create_stmnt)\n",
    "    con.commit()\n",
    "\n",
    "except psycopg2.DatabaseError, e:\n",
    "    \n",
    "    if con:\n",
    "        con.rollback()\n",
    "    \n",
    "    print 'Error %s' % e    \n",
    "    sys.exit(1)\n",
    "\n",
    "finally:\n",
    "\n",
    "    if con:\n",
    "        con.close()"
   ]
  },
  {
   "cell_type": "code",
   "execution_count": 305,
   "metadata": {
    "collapsed": false
   },
   "outputs": [],
   "source": [
    "con = None\n",
    "\n",
    "insrt_stmnt1 = \"COPY la_tweets (Id, username, tweet, rt_status, rt_count, rt_tweet, fav_count) FROM '/Users/andric/Documents/workspace/insight/twitter_loc/tweets_batch1.csv' WITH DELIMITER ',' CSV;\"\n",
    "insrt_stmnt2 = \"COPY la_tweets (Id, username, tweet, rt_status, rt_count, rt_tweet, fav_count) FROM '/Users/andric/Documents/workspace/insight/twitter_loc/tweets_batch2.csv' WITH DELIMITER ',' CSV;\"\n",
    "try:\n",
    "     \n",
    "    con = psycopg2.connect(\"dbname='tweetdat' user='andric'\")   \n",
    "    \n",
    "    cur = con.cursor()\n",
    "    \n",
    "    cur.execute(insrt_stmnt1)\n",
    "    cur.execute(insrt_stmnt2)\n",
    "    con.commit()\n",
    "\n",
    "except psycopg2.DatabaseError, e:\n",
    "    \n",
    "    if con:\n",
    "        con.rollback()\n",
    "    \n",
    "    print 'Error %s' % e    \n",
    "    sys.exit(1)\n",
    "\n",
    "finally:\n",
    "\n",
    "    if con:\n",
    "        con.close()"
   ]
  },
  {
   "cell_type": "code",
   "execution_count": 307,
   "metadata": {
    "collapsed": false
   },
   "outputs": [],
   "source": [
    "con = None\n",
    "\n",
    "insrt_stmnt3 = \"COPY la_tweets (Id, username, tweet, rt_status, rt_count, rt_tweet, fav_count) FROM '/Users/andric/Documents/workspace/insight/twitter_loc/tweets_batch3.csv' WITH DELIMITER ',' CSV;\"\n",
    "insrt_stmnt4 = \"COPY la_tweets (Id, username, tweet, rt_status, rt_count, rt_tweet, fav_count) FROM '/Users/andric/Documents/workspace/insight/twitter_loc/tweets_batch4.csv' WITH DELIMITER ',' CSV;\"\n",
    "try:\n",
    "     \n",
    "    con = psycopg2.connect(\"dbname='tweetdat' user='andric'\")   \n",
    "    \n",
    "    cur = con.cursor()\n",
    "    \n",
    "    cur.execute(insrt_stmnt3)\n",
    "    cur.execute(insrt_stmnt4)\n",
    "    con.commit()\n",
    "\n",
    "except psycopg2.DatabaseError, e:\n",
    "    \n",
    "    if con:\n",
    "        con.rollback()\n",
    "    \n",
    "    print 'Error %s' % e    \n",
    "    sys.exit(1)\n",
    "\n",
    "finally:\n",
    "\n",
    "    if con:\n",
    "        con.close()"
   ]
  },
  {
   "cell_type": "code",
   "execution_count": null,
   "metadata": {
    "collapsed": true
   },
   "outputs": [],
   "source": []
  }
 ],
 "metadata": {
  "anaconda-cloud": {},
  "kernelspec": {
   "display_name": "Python 2",
   "language": "python",
   "name": "python2"
  },
  "language_info": {
   "codemirror_mode": {
    "name": "ipython",
    "version": 2
   },
   "file_extension": ".py",
   "mimetype": "text/x-python",
   "name": "python",
   "nbconvert_exporter": "python",
   "pygments_lexer": "ipython2",
   "version": "2.7.11"
  }
 },
 "nbformat": 4,
 "nbformat_minor": 0
}
