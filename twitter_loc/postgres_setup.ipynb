{
 "cells": [
  {
   "cell_type": "code",
   "execution_count": 1,
   "metadata": {
    "collapsed": true
   },
   "outputs": [],
   "source": [
    "import psycopg2\n",
    "import sys"
   ]
  },
  {
   "cell_type": "markdown",
   "metadata": {},
   "source": [
    "## below creates the table and populates it with csv file data (pulled tweets)"
   ]
  },
  {
   "cell_type": "code",
   "execution_count": 32,
   "metadata": {
    "collapsed": true
   },
   "outputs": [],
   "source": [
    "con = None\n",
    "\n",
    "create_stmnt = \"CREATE TABLE la_tweets(Id bigint PRIMARY KEY, username varchar NOT NULL, user_followers_count integer, user_tweet_count integer, tweet varchar, rt_status smallint, rt_count integer, rt_tweet varchar, fav_count integer);\"\n",
    "insrt_stmnt = \"COPY la_tweets (Id, username, user_followers_count, user_tweet_count, tweet, rt_status, rt_count, rt_tweet, fav_count) FROM '/Users/andric/Documents/workspace/insight/twitter_loc/tweets_batch%d.csv' WITH DELIMITER ',' CSV;\"\n",
    "\n",
    "try:\n",
    "     \n",
    "    con = psycopg2.connect(\"dbname='tweetdat' user='andric'\")       \n",
    "    cur = con.cursor()\n",
    "    \n",
    "    cur.execute(create_stmnt)\n",
    "    for i in range(1, 5):\n",
    "        cur.execute(insrt_stmnt % i)\n",
    "    con.commit()\n",
    "\n",
    "except psycopg2.DatabaseError, e:\n",
    "    \n",
    "    if con:\n",
    "        con.rollback()\n",
    "    \n",
    "    print 'Error %s' % e    \n",
    "    sys.exit(1)\n",
    "\n",
    "finally:\n",
    "\n",
    "    if con:\n",
    "        con.close()"
   ]
  },
  {
   "cell_type": "code",
   "execution_count": 33,
   "metadata": {
    "collapsed": true
   },
   "outputs": [],
   "source": [
    "con = None\n",
    "\n",
    "try:\n",
    "     \n",
    "    con = psycopg2.connect(\"dbname='tweetdat' user='andric'\")       \n",
    "    cur = con.cursor()\n",
    "    \n",
    "    cur.execute(\"SELECT * FROM la_tweets LIMIT 3\")\n",
    "    rows = cur.fetchall()\n",
    "\n",
    "except psycopg2.DatabaseError, e:\n",
    "    \n",
    "    if con:\n",
    "        con.rollback()\n",
    "    \n",
    "    print 'Error %s' % e    \n",
    "    sys.exit(1)\n",
    "\n",
    "finally:\n",
    "\n",
    "    if con:\n",
    "        con.close()"
   ]
  },
  {
   "cell_type": "code",
   "execution_count": 34,
   "metadata": {
    "collapsed": true
   },
   "outputs": [],
   "source": [
    "import numpy as np\n",
    "import pandas as pd"
   ]
  },
  {
   "cell_type": "code",
   "execution_count": 39,
   "metadata": {
    "collapsed": true
   },
   "outputs": [],
   "source": [
    "columnnames = ['id', 'username', 'user_followers_count',\n",
    "               'user_tweet_count', 'tweet', 'rt_status',\n",
    "               'rt_count', 'rt_tweet', 'fav_count']\n",
    "df = pd.DataFrame(rows, columns=columnnames)"
   ]
  },
  {
   "cell_type": "code",
   "execution_count": 37,
   "metadata": {},
   "outputs": [
    {
     "name": "stdout",
     "output_type": "stream",
     "text": [
      "0                                   872311338382618625\n",
      "1                                            itsAllaKe\n",
      "2                                                   95\n",
      "3                                                 4469\n",
      "4    RT @WellieBoyce: 3 of them have been arrested....\n",
      "5                                                    1\n",
      "6                                                 2310\n",
      "7    3 of them have been arrested. Thank you. https...\n",
      "8                                                    0\n",
      "Name: 0, dtype: object\n"
     ]
    }
   ],
   "source": [
    "print df.iloc[0, :]"
   ]
  },
  {
   "cell_type": "code",
   "execution_count": 41,
   "metadata": {},
   "outputs": [
    {
     "data": {
      "text/html": [
       "<div>\n",
       "<table border=\"1\" class=\"dataframe\">\n",
       "  <thead>\n",
       "    <tr style=\"text-align: right;\">\n",
       "      <th></th>\n",
       "      <th>id</th>\n",
       "      <th>username</th>\n",
       "      <th>user_followers_count</th>\n",
       "      <th>user_tweet_count</th>\n",
       "      <th>tweet</th>\n",
       "      <th>rt_status</th>\n",
       "      <th>rt_count</th>\n",
       "      <th>rt_tweet</th>\n",
       "      <th>fav_count</th>\n",
       "    </tr>\n",
       "  </thead>\n",
       "  <tbody>\n",
       "    <tr>\n",
       "      <th>0</th>\n",
       "      <td>872311338382618625</td>\n",
       "      <td>itsAllaKe</td>\n",
       "      <td>95</td>\n",
       "      <td>4469</td>\n",
       "      <td>RT @WellieBoyce: 3 of them have been arrested....</td>\n",
       "      <td>1</td>\n",
       "      <td>2310</td>\n",
       "      <td>3 of them have been arrested. Thank you. https...</td>\n",
       "      <td>0</td>\n",
       "    </tr>\n",
       "    <tr>\n",
       "      <th>1</th>\n",
       "      <td>872311338340634625</td>\n",
       "      <td>alyram1018</td>\n",
       "      <td>424</td>\n",
       "      <td>6613</td>\n",
       "      <td>RT @daisymarquez_: Views ☁️ https://t.co/xReWR...</td>\n",
       "      <td>1</td>\n",
       "      <td>259</td>\n",
       "      <td>Views ☁️ https://t.co/xReWRqj0mW</td>\n",
       "      <td>0</td>\n",
       "    </tr>\n",
       "    <tr>\n",
       "      <th>2</th>\n",
       "      <td>872311338206363648</td>\n",
       "      <td>YogirlViv77</td>\n",
       "      <td>261</td>\n",
       "      <td>11608</td>\n",
       "      <td>@runLALArunn lol I don't even watch tv 😂😂</td>\n",
       "      <td>0</td>\n",
       "      <td>0</td>\n",
       "      <td>NO_RT</td>\n",
       "      <td>0</td>\n",
       "    </tr>\n",
       "  </tbody>\n",
       "</table>\n",
       "</div>"
      ],
      "text/plain": [
       "                   id     username  user_followers_count  user_tweet_count  \\\n",
       "0  872311338382618625    itsAllaKe                    95              4469   \n",
       "1  872311338340634625   alyram1018                   424              6613   \n",
       "2  872311338206363648  YogirlViv77                   261             11608   \n",
       "\n",
       "                                               tweet  rt_status  rt_count  \\\n",
       "0  RT @WellieBoyce: 3 of them have been arrested....          1      2310   \n",
       "1  RT @daisymarquez_: Views ☁️ https://t.co/xReWR...          1       259   \n",
       "2        @runLALArunn lol I don't even watch tv 😂😂          0         0   \n",
       "\n",
       "                                            rt_tweet  fav_count  \n",
       "0  3 of them have been arrested. Thank you. https...          0  \n",
       "1                   Views ☁️ https://t.co/xReWRqj0mW          0  \n",
       "2                                              NO_RT          0  "
      ]
     },
     "execution_count": 41,
     "metadata": {},
     "output_type": "execute_result"
    }
   ],
   "source": [
    "df"
   ]
  },
  {
   "cell_type": "code",
   "execution_count": 104,
   "metadata": {
    "collapsed": true
   },
   "outputs": [],
   "source": [
    "from textblob import TextBlob\n",
    "import math"
   ]
  },
  {
   "cell_type": "code",
   "execution_count": 107,
   "metadata": {},
   "outputs": [
    {
     "data": {
      "text/plain": [
       "'3 of them have been arrested. Thank you. https://t.co/KlxvDGntCx'"
      ]
     },
     "execution_count": 107,
     "metadata": {},
     "output_type": "execute_result"
    }
   ],
   "source": [
    "df.rt_tweet[0]"
   ]
  },
  {
   "cell_type": "code",
   "execution_count": 122,
   "metadata": {
    "collapsed": true
   },
   "outputs": [],
   "source": [
    "analysis = TextBlob('Corrupt Hillary. Sad!')"
   ]
  },
  {
   "cell_type": "code",
   "execution_count": 128,
   "metadata": {},
   "outputs": [
    {
     "data": {
      "text/plain": [
       "Sentiment(polarity=0.0, subjectivity=0.0)"
      ]
     },
     "execution_count": 128,
     "metadata": {},
     "output_type": "execute_result"
    }
   ],
   "source": [
    "#wrdlist = TextBlob(df.rt_tweet[0]).split()\n",
    "wrds = TextBlob(' '.join(df.rt_tweet[0].split()[:-1]))\n",
    "wrds.sentiment"
   ]
  },
  {
   "cell_type": "code",
   "execution_count": 162,
   "metadata": {},
   "outputs": [
    {
     "data": {
      "text/plain": [
       "Sentiment(polarity=0.0, subjectivity=0.0)"
      ]
     },
     "execution_count": 162,
     "metadata": {},
     "output_type": "execute_result"
    }
   ],
   "source": [
    "#TextBlob(df.tweet[1].decode('ascii', 'ignore')).sentiment\n",
    "TextBlob(df.tweet[1].decode('utf-8', 'ignore')).sentiment"
   ]
  },
  {
   "cell_type": "code",
   "execution_count": 210,
   "metadata": {},
   "outputs": [
    {
     "name": "stdout",
     "output_type": "stream",
     "text": [
      "rt @daisymarquez_: views  https://t.co/xrewrqj0mw\n"
     ]
    }
   ],
   "source": [
    "print df.tweet[1].decode('ascii', 'ignore').lower()"
   ]
  },
  {
   "cell_type": "code",
   "execution_count": 156,
   "metadata": {
    "collapsed": true
   },
   "outputs": [],
   "source": [
    "import nltk\n",
    "from nltk.tokenize import RegexpTokenizer"
   ]
  },
  {
   "cell_type": "code",
   "execution_count": 204,
   "metadata": {
    "collapsed": true,
    "scrolled": true
   },
   "outputs": [],
   "source": [
    "re_tokenizer = RegexpTokenizer(r'\\w+')"
   ]
  },
  {
   "cell_type": "code",
   "execution_count": 217,
   "metadata": {},
   "outputs": [
    {
     "data": {
      "text/plain": [
       "[u'rt', u'daisymarquez_', u'views', u'https', u't', u'co', u'xrewrqj0mw']"
      ]
     },
     "execution_count": 217,
     "metadata": {},
     "output_type": "execute_result"
    }
   ],
   "source": [
    "re_tokenizer.tokenize(df.tweet[1].decode('ascii', 'ignore').lower())"
   ]
  },
  {
   "cell_type": "code",
   "execution_count": 222,
   "metadata": {},
   "outputs": [
    {
     "data": {
      "text/plain": [
       "[u'rt', u'@daisymarquez_:', u'views', u'https://t.co/xrewrqj0mw']"
      ]
     },
     "execution_count": 222,
     "metadata": {},
     "output_type": "execute_result"
    }
   ],
   "source": [
    "df.tweet[1].decode('ascii', 'ignore').lower().split()"
   ]
  },
  {
   "cell_type": "code",
   "execution_count": 186,
   "metadata": {
    "collapsed": true
   },
   "outputs": [],
   "source": [
    "con = psycopg2.connect(\"dbname='tweetdat' user='andric'\")\n",
    "sql_query = \"\"\"\n",
    "            SELECT * FROM la_tweets LIMIT 7;\n",
    "            \"\"\"\n",
    "query_results = pd.read_sql_query(sql_query, con)\n",
    "if con:\n",
    "    con.close()"
   ]
  },
  {
   "cell_type": "code",
   "execution_count": 187,
   "metadata": {},
   "outputs": [
    {
     "data": {
      "text/html": [
       "<div>\n",
       "<table border=\"1\" class=\"dataframe\">\n",
       "  <thead>\n",
       "    <tr style=\"text-align: right;\">\n",
       "      <th></th>\n",
       "      <th>id</th>\n",
       "      <th>username</th>\n",
       "      <th>user_followers_count</th>\n",
       "      <th>user_tweet_count</th>\n",
       "      <th>tweet</th>\n",
       "      <th>rt_status</th>\n",
       "      <th>rt_count</th>\n",
       "      <th>rt_tweet</th>\n",
       "      <th>fav_count</th>\n",
       "    </tr>\n",
       "  </thead>\n",
       "  <tbody>\n",
       "    <tr>\n",
       "      <th>0</th>\n",
       "      <td>872311338382618625</td>\n",
       "      <td>itsAllaKe</td>\n",
       "      <td>95</td>\n",
       "      <td>4469</td>\n",
       "      <td>RT @WellieBoyce: 3 of them have been arrested....</td>\n",
       "      <td>1</td>\n",
       "      <td>2310</td>\n",
       "      <td>3 of them have been arrested. Thank you. https...</td>\n",
       "      <td>0</td>\n",
       "    </tr>\n",
       "    <tr>\n",
       "      <th>1</th>\n",
       "      <td>872311338340634625</td>\n",
       "      <td>alyram1018</td>\n",
       "      <td>424</td>\n",
       "      <td>6613</td>\n",
       "      <td>RT @daisymarquez_: Views ☁️ https://t.co/xReWR...</td>\n",
       "      <td>1</td>\n",
       "      <td>259</td>\n",
       "      <td>Views ☁️ https://t.co/xReWRqj0mW</td>\n",
       "      <td>0</td>\n",
       "    </tr>\n",
       "    <tr>\n",
       "      <th>2</th>\n",
       "      <td>872311338206363648</td>\n",
       "      <td>YogirlViv77</td>\n",
       "      <td>261</td>\n",
       "      <td>11608</td>\n",
       "      <td>@runLALArunn lol I don't even watch tv 😂😂</td>\n",
       "      <td>0</td>\n",
       "      <td>0</td>\n",
       "      <td>NO_RT</td>\n",
       "      <td>0</td>\n",
       "    </tr>\n",
       "    <tr>\n",
       "      <th>3</th>\n",
       "      <td>872311338151927809</td>\n",
       "      <td>MidniteNRG</td>\n",
       "      <td>38</td>\n",
       "      <td>218</td>\n",
       "      <td>https://t.co/3fli08Y918</td>\n",
       "      <td>0</td>\n",
       "      <td>0</td>\n",
       "      <td>NO_RT</td>\n",
       "      <td>0</td>\n",
       "    </tr>\n",
       "    <tr>\n",
       "      <th>4</th>\n",
       "      <td>872311338130956288</td>\n",
       "      <td>HollywoodVeal</td>\n",
       "      <td>679</td>\n",
       "      <td>12068</td>\n",
       "      <td>@md0tbrown You sayi my this as a Kings fan or ...</td>\n",
       "      <td>0</td>\n",
       "      <td>0</td>\n",
       "      <td>NO_RT</td>\n",
       "      <td>0</td>\n",
       "    </tr>\n",
       "    <tr>\n",
       "      <th>5</th>\n",
       "      <td>872311338097422336</td>\n",
       "      <td>_xokassy</td>\n",
       "      <td>1024</td>\n",
       "      <td>52179</td>\n",
       "      <td>@bnh_xo AWW THANKS BABY !! 😘</td>\n",
       "      <td>0</td>\n",
       "      <td>0</td>\n",
       "      <td>NO_RT</td>\n",
       "      <td>0</td>\n",
       "    </tr>\n",
       "    <tr>\n",
       "      <th>6</th>\n",
       "      <td>872311337858330624</td>\n",
       "      <td>brito_jamieBX19</td>\n",
       "      <td>2101</td>\n",
       "      <td>46680</td>\n",
       "      <td>RT @WellieBoyce: I want a fucking manhunt to e...</td>\n",
       "      <td>1</td>\n",
       "      <td>81804</td>\n",
       "      <td>I want a fucking manhunt to expose these kids....</td>\n",
       "      <td>0</td>\n",
       "    </tr>\n",
       "  </tbody>\n",
       "</table>\n",
       "</div>"
      ],
      "text/plain": [
       "                   id         username  user_followers_count  \\\n",
       "0  872311338382618625        itsAllaKe                    95   \n",
       "1  872311338340634625       alyram1018                   424   \n",
       "2  872311338206363648      YogirlViv77                   261   \n",
       "3  872311338151927809       MidniteNRG                    38   \n",
       "4  872311338130956288    HollywoodVeal                   679   \n",
       "5  872311338097422336         _xokassy                  1024   \n",
       "6  872311337858330624  brito_jamieBX19                  2101   \n",
       "\n",
       "   user_tweet_count                                              tweet  \\\n",
       "0              4469  RT @WellieBoyce: 3 of them have been arrested....   \n",
       "1              6613  RT @daisymarquez_: Views ☁️ https://t.co/xReWR...   \n",
       "2             11608        @runLALArunn lol I don't even watch tv 😂😂   \n",
       "3               218                            https://t.co/3fli08Y918   \n",
       "4             12068  @md0tbrown You sayi my this as a Kings fan or ...   \n",
       "5             52179                      @bnh_xo AWW THANKS BABY !! 😘   \n",
       "6             46680  RT @WellieBoyce: I want a fucking manhunt to e...   \n",
       "\n",
       "   rt_status  rt_count                                           rt_tweet  \\\n",
       "0          1      2310  3 of them have been arrested. Thank you. https...   \n",
       "1          1       259                   Views ☁️ https://t.co/xReWRqj0mW   \n",
       "2          0         0                                              NO_RT   \n",
       "3          0         0                                              NO_RT   \n",
       "4          0         0                                              NO_RT   \n",
       "5          0         0                                              NO_RT   \n",
       "6          1     81804  I want a fucking manhunt to expose these kids....   \n",
       "\n",
       "   fav_count  \n",
       "0          0  \n",
       "1          0  \n",
       "2          0  \n",
       "3          0  \n",
       "4          0  \n",
       "5          0  \n",
       "6          0  "
      ]
     },
     "execution_count": 187,
     "metadata": {},
     "output_type": "execute_result"
    }
   ],
   "source": [
    "query_results"
   ]
  },
  {
   "cell_type": "code",
   "execution_count": 178,
   "metadata": {
    "collapsed": true
   },
   "outputs": [],
   "source": [
    "resy = \"\"\n",
    "for i in range(3):\n",
    "    resy += query_results.iloc[i]['tweet']\n",
    "    resy += \"<br>\""
   ]
  },
  {
   "cell_type": "code",
   "execution_count": 203,
   "metadata": {},
   "outputs": [
    {
     "name": "stdout",
     "output_type": "stream",
     "text": [
      "RT @daisymarquez_: Views  https://t.co/xReWRqj0mW\n"
     ]
    }
   ],
   "source": [
    "print query_results.iloc[1]['tweet'].decode('ascii', 'ignore')"
   ]
  },
  {
   "cell_type": "markdown",
   "metadata": {},
   "source": [
    "## below makes lv_tweets table and populates it"
   ]
  },
  {
   "cell_type": "code",
   "execution_count": 9,
   "metadata": {},
   "outputs": [
    {
     "name": "stdout",
     "output_type": "stream",
     "text": [
      "3\n",
      "4\n",
      "5\n",
      "6\n",
      "Error duplicate key value violates unique constraint \"lv_tweets_pkey\"\n",
      "DETAIL:  Key (id)=(874720208967143425) already exists.\n",
      "CONTEXT:  COPY lv_tweets, line 132\n",
      "\n"
     ]
    },
    {
     "ename": "SystemExit",
     "evalue": "1",
     "output_type": "error",
     "traceback": [
      "An exception has occurred, use %tb to see the full traceback.\n",
      "\u001b[0;31mSystemExit\u001b[0m\u001b[0;31m:\u001b[0m 1\n"
     ]
    }
   ],
   "source": [
    "con = None\n",
    "\n",
    "create_stmnt = \"CREATE TABLE lv_tweets(Id bigint PRIMARY KEY, username varchar NOT NULL, user_followers_count integer, user_tweet_count integer, tweet varchar, rt_status smallint, rt_count integer, rt_tweet varchar, fav_count integer);\"\n",
    "insrt_stmnt = \"COPY lv_tweets (Id, username, user_followers_count, user_tweet_count, tweet, rt_status, rt_count, rt_tweet, fav_count) FROM '/Users/andric/Documents/workspace/insight/twitter_loc/tweets_lv%d.csv' WITH DELIMITER ',' CSV;\"\n",
    "\n",
    "try:\n",
    "     \n",
    "    con = psycopg2.connect(\"dbname='tweetdat' user='andric'\")       \n",
    "    cur = con.cursor()\n",
    "    \n",
    "    cur.execute(create_stmnt)\n",
    "    for i in range(3, 10):\n",
    "        print i\n",
    "        cur.execute(insrt_stmnt % i)\n",
    "    con.commit()\n",
    "\n",
    "except psycopg2.DatabaseError, e:\n",
    "    \n",
    "    if con:\n",
    "        con.rollback()\n",
    "    \n",
    "    print 'Error %s' % e    \n",
    "    sys.exit(1)\n",
    "\n",
    "finally:\n",
    "\n",
    "    if con:\n",
    "        con.close()"
   ]
  },
  {
   "cell_type": "markdown",
   "metadata": {},
   "source": [
    "## add more data to la_tweets table"
   ]
  },
  {
   "cell_type": "code",
   "execution_count": 11,
   "metadata": {},
   "outputs": [
    {
     "name": "stdout",
     "output_type": "stream",
     "text": [
      "110\n"
     ]
    }
   ],
   "source": [
    "con = None\n",
    "\n",
    "insrt_stmnt = \"COPY la_tweets (Id, username, user_followers_count, user_tweet_count, tweet, rt_status, rt_count, rt_tweet, fav_count) FROM '/Users/andric/Documents/workspace/insight/twitter_loc/tweets_la%d.csv' WITH DELIMITER ',' CSV;\"\n",
    "\n",
    "try:\n",
    "     \n",
    "    con = psycopg2.connect(\"dbname='tweetdat' user='andric'\")       \n",
    "    cur = con.cursor()\n",
    "    \n",
    "    for i in range(110, 111):\n",
    "        print i\n",
    "        cur.execute(insrt_stmnt % i)\n",
    "    con.commit()\n",
    "\n",
    "except psycopg2.DatabaseError, e:\n",
    "    \n",
    "    if con:\n",
    "        con.rollback()\n",
    "    \n",
    "    print 'Error %s' % e    \n",
    "    sys.exit(1)\n",
    "\n",
    "finally:\n",
    "\n",
    "    if con:\n",
    "        con.close()"
   ]
  },
  {
   "cell_type": "markdown",
   "metadata": {
    "collapsed": true
   },
   "source": [
    "## Create two more tables (chi and houston)"
   ]
  },
  {
   "cell_type": "code",
   "execution_count": 14,
   "metadata": {
    "collapsed": true
   },
   "outputs": [],
   "source": [
    "con = None\n",
    "\n",
    "\n",
    "create_stmnt = \"CREATE TABLE %s_tweets(Id bigint PRIMARY KEY, username varchar NOT NULL, user_followers_count integer, user_tweet_count integer, tweet varchar, rt_status smallint, rt_count integer, rt_tweet varchar, fav_count integer);\"\n",
    "\n",
    "try:\n",
    "\n",
    "    con = psycopg2.connect(\"dbname='tweetdat' user='andric'\")       \n",
    "    cur = con.cursor()\n",
    "\n",
    "    for city in ['chi', 'hou']:\n",
    "        cur.execute(create_stmnt % city)\n",
    "    con.commit()\n",
    "\n",
    "except psycopg2.DatabaseError, e:\n",
    "\n",
    "    if con:\n",
    "        con.rollback()\n",
    "\n",
    "    print 'Error %s' % e    \n",
    "    sys.exit(1)\n",
    "\n",
    "finally:\n",
    "\n",
    "    if con:\n",
    "        con.close()"
   ]
  },
  {
   "cell_type": "code",
   "execution_count": 20,
   "metadata": {},
   "outputs": [
    {
     "name": "stdout",
     "output_type": "stream",
     "text": [
      "25\n",
      "26\n"
     ]
    }
   ],
   "source": [
    "con = None\n",
    "\n",
    "insrt_stmnt = \"COPY %s_tweets (Id, username, user_followers_count, user_tweet_count, tweet, rt_status, rt_count, rt_tweet, fav_count) FROM '/Users/andric/Documents/workspace/insight/twitter_loc/tweets_csvs/tweets_%s%d.csv' WITH DELIMITER ',' CSV;\"\n",
    "\n",
    "try:\n",
    "     \n",
    "    con = psycopg2.connect(\"dbname='tweetdat' user='andric'\")       \n",
    "    cur = con.cursor()\n",
    "    \n",
    "#    for i in range(15, 27):\n",
    "    for i in range(25, 27):\n",
    "        for city in ['la']:\n",
    "            print i\n",
    "            cur.execute(insrt_stmnt % (city, city, i))\n",
    "    con.commit()\n",
    "\n",
    "except psycopg2.DatabaseError, e:\n",
    "    \n",
    "    if con:\n",
    "        con.rollback()\n",
    "    \n",
    "    print 'Error %s' % e    \n",
    "    sys.exit(1)\n",
    "\n",
    "finally:\n",
    "\n",
    "    if con:\n",
    "        con.close()"
   ]
  }
 ],
 "metadata": {
  "anaconda-cloud": {},
  "kernelspec": {
   "display_name": "Python 3",
   "language": "python",
   "name": "python3"
  },
  "language_info": {
   "codemirror_mode": {
    "name": "ipython",
    "version": 3
   },
   "file_extension": ".py",
   "mimetype": "text/x-python",
   "name": "python",
   "nbconvert_exporter": "python",
   "pygments_lexer": "ipython3",
   "version": "3.6.2"
  }
 },
 "nbformat": 4,
 "nbformat_minor": 1
}
