{
 "cells": [
  {
   "cell_type": "code",
   "execution_count": 1,
   "metadata": {
    "collapsed": false
   },
   "outputs": [],
   "source": [
    "import psycopg2\n",
    "import sys\n",
    "import numpy as np\n",
    "import pandas as pd\n",
    "from nltk import pos_tag\n",
    "from nltk import pos_tag_sents\n",
    "from nltk.tokenize import TweetTokenizer\n",
    "from textblob import TextBlob\n",
    "from __future__ import division\n",
    "from vaderSentiment.vaderSentiment import SentimentIntensityAnalyzer\n",
    "from sklearn.model_selection import train_test_split\n",
    "from sklearn.preprocessing import StandardScaler\n",
    "from sklearn.ensemble import RandomForestClassifier\n",
    "from sklearn.metrics import accuracy_score\n",
    "from sklearn.metrics import roc_curve, auc\n",
    "from sklearn.externals import joblib\n",
    "from matplotlib.colors import ListedColormap\n",
    "import matplotlib.pyplot as plt"
   ]
  },
  {
   "cell_type": "code",
   "execution_count": 299,
   "metadata": {
    "collapsed": true
   },
   "outputs": [],
   "source": [
    "from treeinterpreter import treeinterpreter as ti"
   ]
  },
  {
   "cell_type": "code",
   "execution_count": 144,
   "metadata": {
    "collapsed": true
   },
   "outputs": [],
   "source": [
    "from nltk.corpus import stopwords\n",
    "stopset = set(stopwords.words('english'))\n",
    "def stopword_filtered_word_feats(words):\n",
    "    return [word for word in words if word not in stopset]\n",
    "\n",
    "def extract_hash_tags(s):\n",
    "    return set(part[1:] for part in s.split() if part.startswith('#'))\n",
    "\n",
    "def extract_http(s):\n",
    "    return set(part for part in s.split() if part.startswith('http'))"
   ]
  },
  {
   "cell_type": "code",
   "execution_count": 264,
   "metadata": {
    "collapsed": false
   },
   "outputs": [],
   "source": [
    "tknzr = TweetTokenizer(strip_handles=True)\n",
    "analyzer = SentimentIntensityAnalyzer()\n",
    "\n",
    "def get_features(tweet_str):\n",
    "    twt_tkns = tknzr.tokenize(tweet_str)\n",
    "    senti = analyzer.polarity_scores(' '.join(stopword_filtered_word_feats(twt_tkns)))\n",
    "\n",
    "    VB_count = 0\n",
    "    PRP_count = 0\n",
    "    JJ_count = 0\n",
    "    for word, tag in pos_tag(twt_tkns):\n",
    "        if tag == 'VB':\n",
    "            VB_count += 1\n",
    "        if tag == 'PRP':\n",
    "            PRP_count += 1\n",
    "        if tag == 'JJ':\n",
    "            JJ_count += 1\n",
    "    return (senti['pos'], senti['neg'], senti['neu'], senti['compound'],\n",
    "            len(twt_tkns), len(extract_hash_tags(tweet_str)), len(extract_http(tweet_str)),\n",
    "            VB_count, PRP_count, JJ_count)\n",
    "            \n"
   ]
  },
  {
   "cell_type": "code",
   "execution_count": 265,
   "metadata": {
    "collapsed": true
   },
   "outputs": [],
   "source": [
    "con = psycopg2.connect(\"dbname='tweetdat' user='andric'\")\n",
    "sql_query = \"\"\"\n",
    "            SELECT rt_tweet, rt_count/user_followers_count::float as rt_influence \\\n",
    "            FROM la_tweets \\\n",
    "            WHERE rt_status = 1 AND user_followers_count > 0 \\\n",
    "            ORDER BY rt_influence DESC LIMIT 195000;\n",
    "            \"\"\"\n",
    "query_results = pd.read_sql_query(sql_query, con)\n",
    "if con:\n",
    "    con.close()"
   ]
  },
  {
   "cell_type": "code",
   "execution_count": 266,
   "metadata": {
    "collapsed": false
   },
   "outputs": [
    {
     "name": "stdout",
     "output_type": "stream",
     "text": [
      "(19616, 10)\n"
     ]
    }
   ],
   "source": [
    "rts_nodups = query_results['rt_tweet'].drop_duplicates()\n",
    "popular_tweets = rts_nodups.apply(get_features).apply(pd.Series)\n",
    "print popular_tweets.shape"
   ]
  },
  {
   "cell_type": "code",
   "execution_count": 319,
   "metadata": {
    "collapsed": false
   },
   "outputs": [
    {
     "data": {
      "text/plain": [
       "[\"1,000,000 retweets and I'll make a Harambe movie \\xf0\\x9f\\x99\\x88\\xf0\\x9f\\x99\\x8a\",\n",
       " '@realDonaldTrump #Merylsayshi',\n",
       " 'Hey @realDonaldTrump u up?',\n",
       " 'My thoughts and prayers go out to everyone affected in Manchester.',\n",
       " 'She paints over Pokemon cards \\xf0\\x9f\\x91\\x8f\\xf0\\x9f\\x91\\x8f\\xf0\\x9f\\x91\\x8f https://t.co/KeRuAFMc9U',\n",
       " \"My @ChipotleTweets submission:\\n\\nFill my mouth with meat\\nChipotle's a tasty treat\\nMakes me twist my teats\",\n",
       " 'Ask me if I give a motherfuck ?!!',\n",
       " 'Everybody. 5/5/17 https://t.co/TkvXk6Iqvq',\n",
       " \"You guys wanted it, so I'm giving away 7 iPhone 7's! Click here to find out how to win it! https://t.co/vQfvtnEHqu\\xe2\\x80\\xa6 https://t.co/weeOdI1Tjg\",\n",
       " \"As a matter of principle, I've resigned from the President's Council over the  #ParisAgreement withdrawal.\"]"
      ]
     },
     "execution_count": 319,
     "metadata": {},
     "output_type": "execute_result"
    }
   ],
   "source": [
    "list(rts_nodups[:10])"
   ]
  },
  {
   "cell_type": "code",
   "execution_count": 324,
   "metadata": {
    "collapsed": false
   },
   "outputs": [
    {
     "data": {
      "text/plain": [
       "28    me at the function, realizing i never want to ...\n",
       "30    Can't make it to the #BBMAs tonight and know I...\n",
       "32    All my feelings on fire... #BadLiar is out now...\n",
       "34                              https://t.co/AC6kz2hH9E\n",
       "35    If President fired Bob Mueller, Congress would...\n",
       "36    gps: you'll arrive in 1hr...\\nme: bet. https:/...\n",
       "39                                    Cory &lt;3's you.\n",
       "40    imagine boycotting beauty &amp; the beast beca...\n",
       "41           now THATS a sunset https://t.co/3cBOQ6czvd\n",
       "42          19.06\\n#zaynxversus https://t.co/C2CxekYgYk\n",
       "44                   #SGBadLiar https://t.co/7UNcqpse9i\n",
       "46    This is my Mums best friend \\nPlease help in a...\n",
       "47    Took a couple months off giveaways so I could ...\n",
       "49    2 days til @13ReasonsWhy… Here's a 1st listen ...\n",
       "50    There are more important things to talk about....\n",
       "Name: rt_tweet, dtype: object"
      ]
     },
     "execution_count": 324,
     "metadata": {},
     "output_type": "execute_result"
    }
   ],
   "source": [
    "rts_nodups[20:35]"
   ]
  },
  {
   "cell_type": "code",
   "execution_count": 251,
   "metadata": {
    "collapsed": false
   },
   "outputs": [],
   "source": [
    "from sklearn.feature_extraction.text import TfidfVectorizer\n",
    "\n",
    "sklearn_tfidf = TfidfVectorizer(norm='l2',min_df=0, use_idf=True, smooth_idf=False, sublinear_tf=True, tokenizer=tknzr.tokenize)\n",
    "sklearn_representation = sklearn_tfidf.fit_transform(list(rts_nodups[:10]))\n"
   ]
  },
  {
   "cell_type": "code",
   "execution_count": 256,
   "metadata": {
    "collapsed": true
   },
   "outputs": [],
   "source": [
    "import math\n",
    "def cosine_similarity(vector1, vector2):\n",
    "    dot_product = sum(p*q for p,q in zip(vector1, vector2))\n",
    "    magnitude = math.sqrt(sum([val**2 for val in vector1])) * math.sqrt(sum([val**2 for val in vector2]))\n",
    "    if not magnitude:\n",
    "        return 0\n",
    "    return dot_product/magnitude"
   ]
  },
  {
   "cell_type": "code",
   "execution_count": 257,
   "metadata": {
    "collapsed": false
   },
   "outputs": [],
   "source": [
    "skl_tfidf_comparisons = []\n",
    "for count_0, doc_0 in enumerate(sklearn_representation.toarray()):\n",
    "    for count_1, doc_1 in enumerate(sklearn_representation.toarray()):\n",
    "        skl_tfidf_comparisons.append((cosine_similarity(doc_0, doc_1), count_0, count_1))"
   ]
  },
  {
   "cell_type": "code",
   "execution_count": 267,
   "metadata": {
    "collapsed": true
   },
   "outputs": [],
   "source": [
    "con = psycopg2.connect(\"dbname='tweetdat' user='andric'\")\n",
    "sql_query = \"\"\"\n",
    "            SELECT tweet \\\n",
    "            FROM la_tweets \\\n",
    "            WHERE rt_status = 0 AND user_followers_count > 0\n",
    "            LIMIT 50000;\n",
    "            \"\"\"\n",
    "query_results = pd.read_sql_query(sql_query, con)\n",
    "if con:\n",
    "    con.close()"
   ]
  },
  {
   "cell_type": "code",
   "execution_count": 268,
   "metadata": {
    "collapsed": true
   },
   "outputs": [],
   "source": [
    "others_nodups = query_results['tweet'].drop_duplicates()\n",
    "nonpopular_tweets = others_nodups.apply(get_features).apply(pd.Series)"
   ]
  },
  {
   "cell_type": "code",
   "execution_count": 269,
   "metadata": {
    "collapsed": true
   },
   "outputs": [],
   "source": [
    "num_tweets = popular_tweets.shape[0]\n",
    "nonpopular_tweets = nonpopular_tweets.sample(n=num_tweets)"
   ]
  },
  {
   "cell_type": "code",
   "execution_count": 270,
   "metadata": {
    "collapsed": false
   },
   "outputs": [
    {
     "name": "stdout",
     "output_type": "stream",
     "text": [
      "0     0.159230\n",
      "1     0.081395\n",
      "2     0.758716\n",
      "3     0.118574\n",
      "4    15.318770\n",
      "5     0.337938\n",
      "6     0.731444\n",
      "7     0.567598\n",
      "8     0.662571\n",
      "9     1.001122\n",
      "dtype: float64\n",
      "0     0.139730\n",
      "1     0.070497\n",
      "2     0.786003\n",
      "3     0.091757\n",
      "4    11.839315\n",
      "5     0.320810\n",
      "6     0.608840\n",
      "7     0.409054\n",
      "8     0.483381\n",
      "9     0.740110\n",
      "dtype: float64\n"
     ]
    }
   ],
   "source": [
    "print popular_tweets.mean()\n",
    "print nonpopular_tweets.mean()"
   ]
  },
  {
   "cell_type": "code",
   "execution_count": 279,
   "metadata": {
    "collapsed": true
   },
   "outputs": [],
   "source": [
    "num_examples = num_tweets\n",
    "y = np.hstack((np.array(num_examples*[1]), np.array(num_examples*[0])))\n",
    "X = np.vstack((popular_tweets.as_matrix()[:num_examples, :], nonpopular_tweets.as_matrix()[:num_examples, :]))"
   ]
  },
  {
   "cell_type": "code",
   "execution_count": 297,
   "metadata": {
    "collapsed": true
   },
   "outputs": [],
   "source": [
    "from sklearn.metrics import classification_report"
   ]
  },
  {
   "cell_type": "code",
   "execution_count": 303,
   "metadata": {
    "collapsed": false,
    "scrolled": true
   },
   "outputs": [
    {
     "name": "stdout",
     "output_type": "stream",
     "text": [
      "  1) numbertokens                   0.246239\n",
      "  2) valence                        0.155781\n",
      "  3) neutral                        0.149083\n",
      "  4) pos                            0.116812\n",
      "  5) neg                            0.074230\n",
      "  6) adjectives                     0.069110\n",
      "  7) verbs                          0.052933\n",
      "  8) persprp                        0.051170\n",
      "  9) numberhashtags                 0.046152\n",
      " 10) numberlinks                    0.038491\n",
      "Train/test accuracies: 0.879/0.608\n",
      "AUC: 0.607717\n",
      "             precision    recall  f1-score   support\n",
      "\n",
      "          0       0.61      0.58      0.59      6428\n",
      "          1       0.60      0.64      0.62      6519\n",
      "\n",
      "avg / total       0.61      0.61      0.61     12947\n",
      "\n"
     ]
    }
   ],
   "source": [
    "ss = StandardScaler()\n",
    "ssX = ss.fit_transform(X)\n",
    "\n",
    "indices = [0,1,2,3,4]\n",
    "X_train, X_test, y_train, y_test = train_test_split(ssX, y,\n",
    "                                                    test_size=0.33)\n",
    "\n",
    "feat_labels = ['pos', 'neg', 'neutral', 'valence', 'numbertokens', 'numberhashtags', 'numberlinks',\n",
    "               'verbs', 'persprp', 'adjectives']\n",
    "#feat_labels = [feat_labels[i] for i in indices]\n",
    "\n",
    "forest = RandomForestClassifier(n_estimators=25, n_jobs=-1, criterion='entropy', random_state=1)\n",
    "#forest = RandomForestClassifier()\n",
    "forest.fit(X_train, y_train)\n",
    "\n",
    "importances = forest.feature_importances_\n",
    "indices = np.argsort(importances)[::-1]\n",
    "for f in range(X_train.shape[1]):\n",
    "    print(\"%3d) %-*s %f\" % (f+1, 30, feat_labels[indices[f]], importances[indices[f]]))\n",
    "\n",
    "y_train_pred = forest.predict(X_train)\n",
    "y_test_pred = forest.predict(X_test)\n",
    "forest_train = accuracy_score(y_train, y_train_pred)\n",
    "forest_test = accuracy_score(y_test, y_test_pred)\n",
    "print('Train/test accuracies: %.3f/%.3f' % (forest_train, forest_test))\n",
    "fpr, tpr, _ = roc_curve(y_test, y_test_pred)\n",
    "roc_auc = auc(fpr, tpr)\n",
    "print('AUC: %f' % roc_auc)\n",
    "print(classification_report(y_test, y_test_pred))"
   ]
  },
  {
   "cell_type": "code",
   "execution_count": 310,
   "metadata": {
    "collapsed": false
   },
   "outputs": [
    {
     "name": "stdout",
     "output_type": "stream",
     "text": [
      "[1]\n",
      "[[ 0.44490518  0.55509482]]\n",
      "(array([[ 0.44490518,  0.55509482]]), array([[ 0.50121971,  0.49878029]]), array([[[ 0.00592494, -0.00592494],\n",
      "        [ 0.00143833, -0.00143833],\n",
      "        [ 0.02666579, -0.02666579],\n",
      "        [ 0.00671949, -0.00671949],\n",
      "        [-0.06447407,  0.06447407],\n",
      "        [-0.00909314,  0.00909314],\n",
      "        [-0.04908437,  0.04908437],\n",
      "        [-0.00444101,  0.00444101],\n",
      "        [ 0.01881483, -0.01881483],\n",
      "        [ 0.01121469, -0.01121469]]]))\n"
     ]
    }
   ],
   "source": [
    "print forest.predict(X_test[0, :].reshape(1, -1))\n",
    "print forest.predict_proba(X_test[0, :].reshape(1, -1))\n",
    "prediction, bias, contributions = ti.predict(forest, X_test[0, :].reshape(1, -1))\n",
    "print(prediction, bias, contributions)"
   ]
  },
  {
   "cell_type": "code",
   "execution_count": 318,
   "metadata": {
    "collapsed": false
   },
   "outputs": [
    {
     "data": {
      "text/plain": [
       "array([[[ 0.00592494, -0.00592494],\n",
       "        [ 0.00143833, -0.00143833],\n",
       "        [ 0.02666579, -0.02666579],\n",
       "        [ 0.00671949, -0.00671949],\n",
       "        [-0.06447407,  0.06447407],\n",
       "        [-0.00909314,  0.00909314],\n",
       "        [-0.04908437,  0.04908437],\n",
       "        [-0.00444101,  0.00444101],\n",
       "        [ 0.01881483, -0.01881483],\n",
       "        [ 0.01121469, -0.01121469]]])"
      ]
     },
     "execution_count": 318,
     "metadata": {},
     "output_type": "execute_result"
    }
   ],
   "source": [
    "contributions"
   ]
  },
  {
   "cell_type": "code",
   "execution_count": 192,
   "metadata": {
    "collapsed": false,
    "scrolled": true
   },
   "outputs": [
    {
     "name": "stdout",
     "output_type": "stream",
     "text": [
      "[[ 0.36  0.64]]\n",
      "[1]\n",
      "[[ 0.52  0.48]]\n",
      "[0]\n",
      "[0]\n"
     ]
    }
   ],
   "source": [
    "print forest.predict_proba(np.array(get_features(\"Yeah! So happy!! Today is a great day for all of us!\")).reshape(1, -1))\n",
    "print forest.predict(np.array(get_features(\"Yeah! So happy!! Today is a great day for all of us!\")).reshape(1, -1))\n",
    "print forest.predict_proba(np.array(get_features(\"meh\")).reshape(1, -1))\n",
    "print forest.predict(np.array(get_features(\"meh\")).reshape(1, -1))\n",
    "print forest.predict(X_test[0, :].reshape(1, -1))\n",
    "#print X_test[0, :].reshape(1, -1)"
   ]
  },
  {
   "cell_type": "code",
   "execution_count": 304,
   "metadata": {
    "collapsed": false
   },
   "outputs": [
    {
     "data": {
      "image/png": "[encoded data removed]",
      "text/plain": [
       "<matplotlib.figure.Figure at 0x1179d12d0>"
      ]
     },
     "metadata": {},
     "output_type": "display_data"
    }
   ],
   "source": [
    "%matplotlib inline\n",
    "plt.figure()\n",
    "lw = 2\n",
    "plt.plot(fpr, tpr, color='darkorange',\n",
    "         lw=lw, label='ROC curve (area = %0.2f)' % roc_auc)\n",
    "plt.plot([0, 1], [0, 1], color='navy', lw=lw, linestyle='--')\n",
    "plt.xlim([0.0, 1.0])\n",
    "plt.ylim([0.0, 1.05])\n",
    "plt.xlabel('False Positive Rate')\n",
    "plt.ylabel('True Positive Rate')\n",
    "plt.title('Receiver operating characteristic example')\n",
    "plt.legend(loc=\"lower right\")\n",
    "plt.show()"
   ]
  },
  {
   "cell_type": "code",
   "execution_count": 99,
   "metadata": {
    "collapsed": false
   },
   "outputs": [
    {
     "data": {
      "text/plain": [
       "array([[  0.736,   0.   ,   0.264,   0.903,  15.   ,   0.   ,   0.   ,\n",
       "          0.   ,   1.   ,   2.   ]])"
      ]
     },
     "execution_count": 99,
     "metadata": {},
     "output_type": "execute_result"
    }
   ],
   "source": [
    "np.array(get_features(\"Yeah! So happy. Today is a great day for all of us!\")).reshape(1, -1)"
   ]
  },
  {
   "cell_type": "code",
   "execution_count": null,
   "metadata": {
    "collapsed": true
   },
   "outputs": [],
   "source": [
    "ss = StandardScaler()\n",
    "ssX = ss.fit_transform(X)\n",
    "\n",
    "indices = [0,1,2,3,4]\n",
    "X_train, X_test, y_train, y_test = train_test_split(X, y,\n",
    "                                                    test_size=0.33)\n",
    "\n",
    "feat_labels = ['pos', 'neg', 'neutral', 'valence', 'numbertokens', 'numberhashtags', 'numberlinks',\n",
    "               'verbs', 'persprp', 'adjectives']\n",
    "#feat_labels = [feat_labels[i] for i in indices]\n",
    "\n",
    "forest = RandomForestClassifier(n_estimators=25, n_jobs=-1, criterion='entropy', random_state=1)\n",
    "#forest = RandomForestClassifier()\n",
    "forest.fit(X_train, y_train)\n",
    "\n",
    "importances = forest.feature_importances_\n",
    "indices = np.argsort(importances)[::-1]\n",
    "for f in range(X_train.shape[1]):\n",
    "    print(\"%3d) %-*s %f\" % (f+1, 30, feat_labels[indices[f]], importances[indices[f]]))\n",
    "\n",
    "y_train_pred = forest.predict(X_train)\n",
    "y_test_pred = forest.predict(X_test)\n",
    "forest_train = accuracy_score(y_train, y_train_pred)\n",
    "forest_test = accuracy_score(y_test, y_test_pred)\n",
    "print('Train/test accuracies: %.3f/%.3f' % (forest_train, forest_test))\n",
    "fpr, tpr, _ = roc_curve(y_test, y_test_pred)\n",
    "roc_auc = auc(fpr, tpr)\n",
    "print('AUC: %f' % roc_auc)"
   ]
  },
  {
   "cell_type": "code",
   "execution_count": 142,
   "metadata": {
    "collapsed": true
   },
   "outputs": [],
   "source": [
    "from collections import OrderedDict"
   ]
  },
  {
   "cell_type": "code",
   "execution_count": 143,
   "metadata": {
    "collapsed": false
   },
   "outputs": [
    {
     "name": "stderr",
     "output_type": "stream",
     "text": [
      "/Users/andric/anaconda/lib/python2.7/site-packages/sklearn/ensemble/forest.py:439: UserWarning: Some inputs do not have OOB scores. This probably means too few trees were used to compute any reliable oob estimates.\n",
      "  warn(\"Some inputs do not have OOB scores. \"\n"
     ]
    },
    {
     "data": {
      "image/png": "[encoded data removed]",
      "text/plain": [
       "<matplotlib.figure.Figure at 0x11606e150>"
      ]
     },
     "metadata": {},
     "output_type": "display_data"
    }
   ],
   "source": [
    "RANDOM_STATE = 123\n",
    "ensemble_clfs = [\n",
    "    (\"RandomForestClassifier, max_features='sqrt'\",\n",
    "        RandomForestClassifier(warm_start=True, oob_score=True,\n",
    "                               max_features=\"sqrt\",\n",
    "                               random_state=RANDOM_STATE)),\n",
    "    (\"RandomForestClassifier, max_features='log2'\",\n",
    "        RandomForestClassifier(warm_start=True, max_features='log2',\n",
    "                               oob_score=True,\n",
    "                               random_state=RANDOM_STATE)),\n",
    "    (\"RandomForestClassifier, max_features=None\",\n",
    "        RandomForestClassifier(warm_start=True, max_features=None,\n",
    "                               oob_score=True,\n",
    "                               random_state=RANDOM_STATE))\n",
    "]\n",
    "\n",
    "# Map a classifier name to a list of (<n_estimators>, <error rate>) pairs.\n",
    "error_rate = OrderedDict((label, []) for label, _ in ensemble_clfs)\n",
    "\n",
    "# Range of `n_estimators` values to explore.\n",
    "min_estimators = 15\n",
    "max_estimators = 175\n",
    "\n",
    "for label, clf in ensemble_clfs:\n",
    "    for i in range(min_estimators, max_estimators + 1):\n",
    "        clf.set_params(n_estimators=i)\n",
    "        clf.fit(X, y)\n",
    "\n",
    "        # Record the OOB error for each `n_estimators=i` setting.\n",
    "        oob_error = 1 - clf.oob_score_\n",
    "        error_rate[label].append((i, oob_error))\n",
    "\n",
    "# Generate the \"OOB error rate\" vs. \"n_estimators\" plot.\n",
    "%matplotlib inline\n",
    "for label, clf_err in error_rate.items():\n",
    "    xs, ys = zip(*clf_err)\n",
    "    plt.plot(xs, ys, label=label)\n",
    "\n",
    "plt.xlim(min_estimators, max_estimators)\n",
    "plt.xlabel(\"n_estimators\")\n",
    "plt.ylabel(\"OOB error rate\")\n",
    "plt.legend(loc=\"upper right\")\n",
    "plt.show()\n"
   ]
  },
  {
   "cell_type": "code",
   "execution_count": 46,
   "metadata": {
    "collapsed": false
   },
   "outputs": [],
   "source": [
    "from xgboost import XGBClassifier"
   ]
  },
  {
   "cell_type": "code",
   "execution_count": 49,
   "metadata": {
    "collapsed": false
   },
   "outputs": [
    {
     "name": "stdout",
     "output_type": "stream",
     "text": [
      "  1) numbertokens                   0.273570\n",
      "  2) valence                        0.142195\n",
      "  3) numberlinks                    0.115920\n",
      "  4) numberhashtags                 0.105100\n",
      "  5) neutral                        0.098918\n",
      "  6) neg                            0.064915\n",
      "  7) persprp                        0.058733\n",
      "  8) adjectives                     0.051005\n",
      "  9) pos                            0.051005\n",
      " 10) verbs                          0.038640\n",
      "Train/test accuracies: 0.637/0.629\n",
      "AUC: 0.629704\n"
     ]
    }
   ],
   "source": [
    "X_train, X_test, y_train, y_test = train_test_split(ssX, y,\n",
    "                                                    test_size=0.33)\n",
    "\n",
    "model = XGBClassifier()\n",
    "model.fit(X_train, y_train)\n",
    "\n",
    "feat_labels = ['pos', 'neg', 'neutral', 'valence', 'numbertokens', 'numberhashtags',\n",
    "               'numberlinks', 'verbs', 'persprp', 'adjectives']\n",
    "\n",
    "importances = model.feature_importances_\n",
    "indices = np.argsort(importances)[::-1]\n",
    "for f in range(X_train.shape[1]):\n",
    "    print(\"%3d) %-*s %f\" % (f+1, 30, feat_labels[indices[f]], importances[indices[f]]))\n",
    "\n",
    "y_train_pred = model.predict(X_train)\n",
    "y_test_pred = model.predict(X_test)\n",
    "model_train = accuracy_score(y_train, y_train_pred)\n",
    "model_test = accuracy_score(y_test, y_test_pred)\n",
    "print('Train/test accuracies: %.3f/%.3f' % (model_train, model_test))\n",
    "fpr, tpr, _ = roc_curve(y_test, y_test_pred)\n",
    "roc_auc = auc(fpr, tpr)\n",
    "print('AUC: %f' % roc_auc)"
   ]
  },
  {
   "cell_type": "markdown",
   "metadata": {},
   "source": [
    "## different attempt"
   ]
  },
  {
   "cell_type": "markdown",
   "metadata": {},
   "source": [
    "trying from http://scikit-learn.org/stable/auto_examples/ensemble/plot_feature_transformation.html#sphx-glr-auto-examples-ensemble-plot-feature-transformation-py"
   ]
  },
  {
   "cell_type": "code",
   "execution_count": 271,
   "metadata": {
    "collapsed": true
   },
   "outputs": [],
   "source": [
    "from sklearn.datasets import make_classification\n",
    "X, y = make_classification(n_samples=80000)"
   ]
  },
  {
   "cell_type": "code",
   "execution_count": 277,
   "metadata": {
    "collapsed": false
   },
   "outputs": [
    {
     "data": {
      "text/plain": [
       "array([0, 1])"
      ]
     },
     "execution_count": 277,
     "metadata": {},
     "output_type": "execute_result"
    }
   ],
   "source": []
  },
  {
   "cell_type": "code",
   "execution_count": 289,
   "metadata": {
    "collapsed": false
   },
   "outputs": [
    {
     "data": {
      "text/plain": [
       "(39232, 10)"
      ]
     },
     "execution_count": 289,
     "metadata": {},
     "output_type": "execute_result"
    }
   ],
   "source": []
  },
  {
   "cell_type": "code",
   "execution_count": 292,
   "metadata": {
    "collapsed": false
   },
   "outputs": [
    {
     "data": {
      "image/png": "[encoded data removed]",
      "text/plain": [
       "<matplotlib.figure.Figure at 0x119fc3c50>"
      ]
     },
     "metadata": {},
     "output_type": "display_data"
    },
    {
     "data": {
      "image/png": "[encoded data removed]",
      "text/plain": [
       "<matplotlib.figure.Figure at 0x11ead5bd0>"
      ]
     },
     "metadata": {},
     "output_type": "display_data"
    }
   ],
   "source": [
    "from sklearn.linear_model import LogisticRegression\n",
    "from sklearn.ensemble import (RandomTreesEmbedding, RandomForestClassifier,\n",
    "                              GradientBoostingClassifier)\n",
    "from sklearn.preprocessing import OneHotEncoder\n",
    "from sklearn.model_selection import train_test_split\n",
    "from sklearn.metrics import roc_curve\n",
    "from sklearn.pipeline import make_pipeline\n",
    "\n",
    "n_estimator = 10\n",
    "#X, y = make_classification(n_samples=80000)\n",
    "X_train, X_test, y_train, y_test = train_test_split(X, y, test_size=0.5)\n",
    "# It is important to train the ensemble of trees on a different subset\n",
    "# of the training data than the linear regression model to avoid\n",
    "# overfitting, in particular if the total number of leaves is\n",
    "# similar to the number of training samples\n",
    "X_train, X_train_lr, y_train, y_train_lr = train_test_split(X_train,\n",
    "                                                            y_train,\n",
    "                                                            test_size=0.5)\n",
    "\n",
    "# Unsupervised transformation based on totally random trees\n",
    "rt = RandomTreesEmbedding(max_depth=3, n_estimators=n_estimator,\n",
    "    random_state=0)\n",
    "\n",
    "rt_lm = LogisticRegression()\n",
    "pipeline = make_pipeline(rt, rt_lm)\n",
    "pipeline.fit(X_train, y_train)\n",
    "y_pred_rt = pipeline.predict_proba(X_test)[:, 1]\n",
    "fpr_rt_lm, tpr_rt_lm, _ = roc_curve(y_test, y_pred_rt)\n",
    "\n",
    "# Supervised transformation based on random forests\n",
    "rf = RandomForestClassifier(max_depth=3, n_estimators=n_estimator)\n",
    "rf_enc = OneHotEncoder()\n",
    "rf_lm = LogisticRegression()\n",
    "rf.fit(X_train, y_train)\n",
    "rf_enc.fit(rf.apply(X_train))\n",
    "rf_lm.fit(rf_enc.transform(rf.apply(X_train_lr)), y_train_lr)\n",
    "\n",
    "y_pred_rf_lm = rf_lm.predict_proba(rf_enc.transform(rf.apply(X_test)))[:, 1]\n",
    "fpr_rf_lm, tpr_rf_lm, _ = roc_curve(y_test, y_pred_rf_lm)\n",
    "\n",
    "grd = GradientBoostingClassifier(n_estimators=n_estimator)\n",
    "grd_enc = OneHotEncoder()\n",
    "grd_lm = LogisticRegression()\n",
    "grd.fit(X_train, y_train)\n",
    "grd_enc.fit(grd.apply(X_train)[:, :, 0])\n",
    "grd_lm.fit(grd_enc.transform(grd.apply(X_train_lr)[:, :, 0]), y_train_lr)\n",
    "\n",
    "y_pred_grd_lm = grd_lm.predict_proba(\n",
    "    grd_enc.transform(grd.apply(X_test)[:, :, 0]))[:, 1]\n",
    "fpr_grd_lm, tpr_grd_lm, _ = roc_curve(y_test, y_pred_grd_lm)\n",
    "\n",
    "\n",
    "# The gradient boosted model by itself\n",
    "y_pred_grd = grd.predict_proba(X_test)[:, 1]\n",
    "fpr_grd, tpr_grd, _ = roc_curve(y_test, y_pred_grd)\n",
    "\n",
    "\n",
    "# The random forest model by itself\n",
    "y_pred_rf = rf.predict_proba(X_test)[:, 1]\n",
    "fpr_rf, tpr_rf, _ = roc_curve(y_test, y_pred_rf)\n",
    "\n",
    "plt.figure(1)\n",
    "plt.plot([0, 1], [0, 1], 'k--')\n",
    "plt.plot(fpr_rt_lm, tpr_rt_lm, label='RT + LR')\n",
    "plt.plot(fpr_rf, tpr_rf, label='RF')\n",
    "plt.plot(fpr_rf_lm, tpr_rf_lm, label='RF + LR')\n",
    "plt.plot(fpr_grd, tpr_grd, label='GBT')\n",
    "plt.plot(fpr_grd_lm, tpr_grd_lm, label='GBT + LR')\n",
    "plt.xlabel('False positive rate')\n",
    "plt.ylabel('True positive rate')\n",
    "plt.title('ROC curve')\n",
    "plt.legend(loc='best')\n",
    "plt.show()\n",
    "\n",
    "plt.figure(2)\n",
    "plt.xlim(0.2, 0.4)\n",
    "plt.ylim(0.4, 0.7)\n",
    "plt.plot([0, 1], [0, 1], 'k--')\n",
    "plt.plot(fpr_rt_lm, tpr_rt_lm, label='RT + LR')\n",
    "plt.plot(fpr_rf, tpr_rf, label='RF')\n",
    "plt.plot(fpr_rf_lm, tpr_rf_lm, label='RF + LR')\n",
    "plt.plot(fpr_grd, tpr_grd, label='GBT')\n",
    "plt.plot(fpr_grd_lm, tpr_grd_lm, label='GBT + LR')\n",
    "plt.xlabel('False positive rate')\n",
    "plt.ylabel('True positive rate')\n",
    "plt.title('ROC curve (zoomed in at top left)')\n",
    "plt.legend(loc='best')\n",
    "plt.show()"
   ]
  },
  {
   "cell_type": "code",
   "execution_count": 205,
   "metadata": {
    "collapsed": false
   },
   "outputs": [
    {
     "data": {
      "text/plain": [
       "array([ 0.38494773,  0.97950902,  0.61297862, ...,  0.61355728,\n",
       "        0.00225023,  0.38739329])"
      ]
     },
     "execution_count": 205,
     "metadata": {},
     "output_type": "execute_result"
    }
   ],
   "source": [
    "pipeline.predict_proba(X_test)[:, 1]"
   ]
  },
  {
   "cell_type": "code",
   "execution_count": 206,
   "metadata": {
    "collapsed": false
   },
   "outputs": [
    {
     "data": {
      "text/plain": [
       "LogisticRegression(C=1.0, class_weight=None, dual=False, fit_intercept=True,\n",
       "          intercept_scaling=1, max_iter=100, multi_class='ovr', n_jobs=1,\n",
       "          penalty='l2', random_state=None, solver='liblinear', tol=0.0001,\n",
       "          verbose=0, warm_start=False)"
      ]
     },
     "execution_count": 206,
     "metadata": {},
     "output_type": "execute_result"
    }
   ],
   "source": [
    "lr = LogisticRegression()\n",
    "lr.fit(X_train, y_train)"
   ]
  },
  {
   "cell_type": "code",
   "execution_count": 222,
   "metadata": {
    "collapsed": false
   },
   "outputs": [
    {
     "data": {
      "text/plain": [
       "400000"
      ]
     },
     "execution_count": 222,
     "metadata": {},
     "output_type": "execute_result"
    }
   ],
   "source": []
  }
 ],
 "metadata": {
  "anaconda-cloud": {},
  "kernelspec": {
   "display_name": "Python 3",
   "language": "python",
   "name": "python3"
  },
  "language_info": {
   "codemirror_mode": {
    "name": "ipython",
    "version": 3
   },
   "file_extension": ".py",
   "mimetype": "text/x-python",
   "name": "python",
   "nbconvert_exporter": "python",
   "pygments_lexer": "ipython3",
   "version": "3.5.1"
  }
 },
 "nbformat": 4,
 "nbformat_minor": 0
}
