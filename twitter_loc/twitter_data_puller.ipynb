{
 "cells": [
  {
   "cell_type": "code",
   "execution_count": 1,
   "metadata": {
    "collapsed": true
   },
   "outputs": [],
   "source": [
    "import tweepy\n",
    "import csv\n",
    "import pandas as pd\n",
    "import numpy as np\n",
    "from textblob import TextBlob\n",
    "import psycopg2\n",
    "import sys\n",
    "import os\n",
    "import time\n",
    "\n",
    "\n",
    "with open('%s/.tweetcred.txt' % os.environ['HOME'], 'r') as creds:\n",
    "    ckey, csec, atok, atoksec = creds.readlines()\n",
    "\n",
    "    \n",
    "consumer_key = ckey.split()[2]\n",
    "consumer_secret = csec.split()[2]\n",
    "access_token = atok.split()[2]\n",
    "access_token_secret = atoksec.split()[2]\n",
    "\n",
    "auth = tweepy.auth.OAuthHandler(consumer_key, consumer_secret)\n",
    "auth.set_access_token(access_token, access_token_secret)\n",
    "api = tweepy.API(auth, wait_on_rate_limit=True)"
   ]
  },
  {
   "cell_type": "code",
   "execution_count": 3,
   "metadata": {
    "collapsed": true
   },
   "outputs": [],
   "source": [
    "def limit_handled(cursor):\n",
    "    while True:\n",
    "        try:\n",
    "            yield cursor.next()\n",
    "        except tweepy.RateLimitError:\n",
    "            time.sleep(15 * 60)\n"
   ]
  },
  {
   "cell_type": "code",
   "execution_count": 12,
   "metadata": {
    "collapsed": false,
    "scrolled": true
   },
   "outputs": [],
   "source": [
    "#for i in range(11, 16):\n",
    "for i in [3]:\n",
    "    with open('tweets_lv%d.csv' % i, 'w') as csvfile:\n",
    "        tweetwriter = csv.writer(csvfile, delimiter = ',')\n",
    "        for tweet in limit_handled(tweepy.Cursor(api.search,q=\"*\",count=5000,geocode=\"36.1203018,-115.1722432,25km\").items(5000)):\n",
    "            #print tweet.user.screen_name.encode('utf-8'), tweet.text.encode('utf-8'), tweet.retweet_count\n",
    "            if hasattr(tweet, 'retweeted_status'):\n",
    "                rtweet = 1\n",
    "                rtweet_txt = tweet.retweeted_status.text.encode('utf-8')\n",
    "            else:\n",
    "                rtweet = 0\n",
    "                rtweet_txt = 'NO_RT'\n",
    "            tweetwriter.writerow([tweet.id_str, tweet.user.screen_name, tweet.user.followers_count, tweet.user.statuses_count, tweet.text.encode('utf-8'), rtweet, tweet.retweet_count, rtweet_txt, tweet.favorite_count])"
   ]
  },
  {
   "cell_type": "markdown",
   "metadata": {},
   "source": [
    "## get more LA tweets with timer "
   ]
  },
  {
   "cell_type": "code",
   "execution_count": 12,
   "metadata": {
    "collapsed": false
   },
   "outputs": [
    {
     "ename": "KeyboardInterrupt",
     "evalue": "",
     "output_type": "error",
     "traceback": [
      "\u001b[0;31m---------------------------------------------------------------------------\u001b[0m",
      "\u001b[0;31mKeyboardInterrupt\u001b[0m                         Traceback (most recent call last)",
      "\u001b[0;32m<ipython-input-12-c6c5e3a3d6b2>\u001b[0m in \u001b[0;36m<module>\u001b[0;34m()\u001b[0m\n\u001b[1;32m     11\u001b[0m                 \u001b[0mrtweet_txt\u001b[0m \u001b[0;34m=\u001b[0m \u001b[0;34m'NO_RT'\u001b[0m\u001b[0;34m\u001b[0m\u001b[0m\n\u001b[1;32m     12\u001b[0m             \u001b[0mtweetwriter\u001b[0m\u001b[0;34m.\u001b[0m\u001b[0mwriterow\u001b[0m\u001b[0;34m(\u001b[0m\u001b[0;34m[\u001b[0m\u001b[0mtweet\u001b[0m\u001b[0;34m.\u001b[0m\u001b[0mid_str\u001b[0m\u001b[0;34m,\u001b[0m \u001b[0mtweet\u001b[0m\u001b[0;34m.\u001b[0m\u001b[0muser\u001b[0m\u001b[0;34m.\u001b[0m\u001b[0mscreen_name\u001b[0m\u001b[0;34m,\u001b[0m \u001b[0mtweet\u001b[0m\u001b[0;34m.\u001b[0m\u001b[0muser\u001b[0m\u001b[0;34m.\u001b[0m\u001b[0mfollowers_count\u001b[0m\u001b[0;34m,\u001b[0m \u001b[0mtweet\u001b[0m\u001b[0;34m.\u001b[0m\u001b[0muser\u001b[0m\u001b[0;34m.\u001b[0m\u001b[0mstatuses_count\u001b[0m\u001b[0;34m,\u001b[0m \u001b[0mtweet\u001b[0m\u001b[0;34m.\u001b[0m\u001b[0mtext\u001b[0m\u001b[0;34m.\u001b[0m\u001b[0mencode\u001b[0m\u001b[0;34m(\u001b[0m\u001b[0;34m'utf-8'\u001b[0m\u001b[0;34m)\u001b[0m\u001b[0;34m,\u001b[0m \u001b[0mrtweet\u001b[0m\u001b[0;34m,\u001b[0m \u001b[0mtweet\u001b[0m\u001b[0;34m.\u001b[0m\u001b[0mretweet_count\u001b[0m\u001b[0;34m,\u001b[0m \u001b[0mrtweet_txt\u001b[0m\u001b[0;34m,\u001b[0m \u001b[0mtweet\u001b[0m\u001b[0;34m.\u001b[0m\u001b[0mfavorite_count\u001b[0m\u001b[0;34m]\u001b[0m\u001b[0;34m)\u001b[0m\u001b[0;34m\u001b[0m\u001b[0m\n\u001b[0;32m---> 13\u001b[0;31m     \u001b[0mtime\u001b[0m\u001b[0;34m.\u001b[0m\u001b[0msleep\u001b[0m\u001b[0;34m(\u001b[0m\u001b[0;36m4\u001b[0m \u001b[0;34m*\u001b[0m \u001b[0;36m60\u001b[0m\u001b[0;34m)\u001b[0m\u001b[0;34m\u001b[0m\u001b[0m\n\u001b[0m",
      "\u001b[0;31mKeyboardInterrupt\u001b[0m: "
     ]
    }
   ],
   "source": [
    "for i in range(111, 120):\n",
    "    with open('tweets_la%d.csv' % i, 'w') as csvfile:\n",
    "        tweetwriter = csv.writer(csvfile, delimiter = ',')\n",
    "        for tweet in limit_handled(tweepy.Cursor(api.search,q=\"*\",count=5000,geocode=\"34.0904489,-118.2305523,25km\").items(5000)):\n",
    "            #print tweet.user.screen_name.encode('utf-8'), tweet.text.encode('utf-8'), tweet.retweet_count\n",
    "            if hasattr(tweet, 'retweeted_status'):\n",
    "                rtweet = 1\n",
    "                rtweet_txt = tweet.retweeted_status.text.encode('utf-8')\n",
    "            else:\n",
    "                rtweet = 0\n",
    "                rtweet_txt = 'NO_RT'\n",
    "            tweetwriter.writerow([tweet.id_str, tweet.user.screen_name, tweet.user.followers_count, tweet.user.statuses_count, tweet.text.encode('utf-8'), rtweet, tweet.retweet_count, rtweet_txt, tweet.favorite_count])\n",
    "    time.sleep(4 * 60)"
   ]
  },
  {
   "cell_type": "code",
   "execution_count": null,
   "metadata": {
    "collapsed": true
   },
   "outputs": [],
   "source": [
    "for i in range(1, 10):\n",
    "    with open('tweets_csvs/tweets_la%d.csv' % i, 'w') as csvfile:\n",
    "        tweetwriter = csv.writer(csvfile, delimiter = ',')\n",
    "        for tweet in limit_handled(tweepy.Cursor(api.search,q=\"*\",count=10000,geocode=\"34.0904489,-118.2305523,25km\").items(10000)):\n",
    "            #print tweet.user.screen_name.encode('utf-8'), tweet.text.encode('utf-8'), tweet.retweet_count\n",
    "            if hasattr(tweet, 'retweeted_status'):\n",
    "                rtweet = 1\n",
    "                rtweet_txt = tweet.retweeted_status.text.encode('utf-8')\n",
    "            else:\n",
    "                rtweet = 0\n",
    "                rtweet_txt = 'NO_RT'\n",
    "            tweetwriter.writerow([tweet.id_str, tweet.user.screen_name, tweet.user.followers_count, tweet.user.statuses_count, tweet.text.encode('utf-8'), rtweet, tweet.retweet_count, rtweet_txt, tweet.favorite_count])\n",
    "    time.sleep(4 * 60)\n",
    "    with open('tweets_csvs/tweets_chi%d.csv' % i, 'w') as csvfile:\n",
    "        tweetwriter = csv.writer(csvfile, delimiter = ',')\n",
    "        for tweet in limit_handled(tweepy.Cursor(api.search,q=\"*\",count=10000,geocode=\"41.8788493,-87.6275801,25km\").items(10000)):\n",
    "            #print tweet.user.screen_name.encode('utf-8'), tweet.text.encode('utf-8'), tweet.retweet_count\n",
    "            if hasattr(tweet, 'retweeted_status'):\n",
    "                rtweet = 1\n",
    "                rtweet_txt = tweet.retweeted_status.text.encode('utf-8')\n",
    "            else:\n",
    "                rtweet = 0\n",
    "                rtweet_txt = 'NO_RT'\n",
    "            tweetwriter.writerow([tweet.id_str, tweet.user.screen_name, tweet.user.followers_count, tweet.user.statuses_count, tweet.text.encode('utf-8'), rtweet, tweet.retweet_count, rtweet_txt, tweet.favorite_count])\n",
    "    time.sleep(4 * 60)\n",
    "        with open('tweets_csvs/tweets_hou%d.csv' % i, 'w') as csvfile:\n",
    "        tweetwriter = csv.writer(csvfile, delimiter = ',')\n",
    "        for tweet in limit_handled(tweepy.Cursor(api.search,q=\"*\",count=10000,geocode=\"29.8384701,-95.4465094,25km\").items(10000)):\n",
    "            if hasattr(tweet, 'retweeted_status'):\n",
    "                rtweet = 1\n",
    "                rtweet_txt = tweet.retweeted_status.text.encode('utf-8')\n",
    "            else:\n",
    "                rtweet = 0\n",
    "                rtweet_txt = 'NO_RT'\n",
    "            tweetwriter.writerow([tweet.id_str, tweet.user.screen_name, tweet.user.followers_count, tweet.user.statuses_count, tweet.text.encode('utf-8'), rtweet, tweet.retweet_count, rtweet_txt, tweet.favorite_count])\n",
    "    time.sleep(4 * 60)\n"
   ]
  }
 ],
 "metadata": {
  "anaconda-cloud": {},
  "kernelspec": {
   "display_name": "Python 2",
   "language": "python",
   "name": "python2"
  },
  "language_info": {
   "codemirror_mode": {
    "name": "ipython",
    "version": 2
   },
   "file_extension": ".py",
   "mimetype": "text/x-python",
   "name": "python",
   "nbconvert_exporter": "python",
   "pygments_lexer": "ipython2",
   "version": "2.7.11"
  }
 },
 "nbformat": 4,
 "nbformat_minor": 0
}
