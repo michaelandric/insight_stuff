{
 "cells": [
  {
   "cell_type": "code",
   "execution_count": 3,
   "metadata": {},
   "outputs": [],
   "source": [
    "import sys\n",
    "import os\n",
    "import tweepy\n",
    "import csv\n",
    "import time\n",
    "\n",
    "\n",
    "with open('%s/.tweetcred.txt' % os.environ['HOME'], 'r') as creds:\n",
    "    ckey, csec, atok, atoksec = creds.readlines()\n",
    "\n",
    "    \n",
    "consumer_key = ckey.split()[2]\n",
    "consumer_secret = csec.split()[2]\n",
    "access_token = atok.split()[2]\n",
    "access_token_secret = atoksec.split()[2]\n",
    "\n",
    "\n",
    "# Replace the API_KEY and API_SECRET with your application's key and secret.\n",
    "auth = tweepy.AppAuthHandler(consumer_key, consumer_secret)\n",
    "\n",
    "\n",
    "api = tweepy.API(auth, wait_on_rate_limit=True,\n",
    "                 wait_on_rate_limit_notify=True)\n",
    "\n",
    "if (not api):\n",
    "    print (\"Can't Authenticate\")\n",
    "    sys.exit(-1)\n",
    "\n",
    "# Continue with rest of code"
   ]
  },
  {
   "cell_type": "code",
   "execution_count": 5,
   "metadata": {
    "collapsed": true
   },
   "outputs": [],
   "source": [
    "def limit_handled(cursor):\n",
    "    while True:\n",
    "        try:\n",
    "            yield cursor.next()\n",
    "        except tweepy.RateLimitError:\n",
    "            time.sleep(15 * 60)"
   ]
  },
  {
   "cell_type": "code",
   "execution_count": 11,
   "metadata": {
    "scrolled": true
   },
   "outputs": [
    {
     "ename": "TweepError",
     "evalue": "Failed to send request: HTTPSConnectionPool(host='api.twitter.com', port=443): Read timed out.",
     "output_type": "error",
     "traceback": [
      "\u001b[0;31m---------------------------------------------------------------------------\u001b[0m",
      "\u001b[0;31mTweepError\u001b[0m                                Traceback (most recent call last)",
      "\u001b[0;32m<ipython-input-11-61d9ee4b9252>\u001b[0m in \u001b[0;36m<module>\u001b[0;34m()\u001b[0m\n\u001b[1;32m     41\u001b[0m             \u001b[0mtweetwriter\u001b[0m \u001b[0;34m=\u001b[0m \u001b[0mcsv\u001b[0m\u001b[0;34m.\u001b[0m\u001b[0mwriter\u001b[0m\u001b[0;34m(\u001b[0m\u001b[0mcsvfile\u001b[0m\u001b[0;34m,\u001b[0m \u001b[0mdelimiter\u001b[0m \u001b[0;34m=\u001b[0m \u001b[0;34m','\u001b[0m\u001b[0;34m)\u001b[0m\u001b[0;34m\u001b[0m\u001b[0m\n\u001b[1;32m     42\u001b[0m             for tweet in limit_handled(tweepy.Cursor(api.search,q=\"*\",count=15000,max_id=str(hou_last_id - 1),\n\u001b[0;32m---> 43\u001b[0;31m                                                      geocode=\"29.8384701,-95.4465094,25km\").items(15000)):\n\u001b[0m\u001b[1;32m     44\u001b[0m                 \u001b[0;32mif\u001b[0m \u001b[0mhasattr\u001b[0m\u001b[0;34m(\u001b[0m\u001b[0mtweet\u001b[0m\u001b[0;34m,\u001b[0m \u001b[0;34m'retweeted_status'\u001b[0m\u001b[0;34m)\u001b[0m\u001b[0;34m:\u001b[0m\u001b[0;34m\u001b[0m\u001b[0m\n\u001b[1;32m     45\u001b[0m                     \u001b[0mrtweet\u001b[0m \u001b[0;34m=\u001b[0m \u001b[0;36m1\u001b[0m\u001b[0;34m\u001b[0m\u001b[0m\n",
      "\u001b[0;32m<ipython-input-5-fa647804ec4a>\u001b[0m in \u001b[0;36mlimit_handled\u001b[0;34m(cursor)\u001b[0m\n\u001b[1;32m      2\u001b[0m     \u001b[0;32mwhile\u001b[0m \u001b[0mTrue\u001b[0m\u001b[0;34m:\u001b[0m\u001b[0;34m\u001b[0m\u001b[0m\n\u001b[1;32m      3\u001b[0m         \u001b[0;32mtry\u001b[0m\u001b[0;34m:\u001b[0m\u001b[0;34m\u001b[0m\u001b[0m\n\u001b[0;32m----> 4\u001b[0;31m             \u001b[0;32myield\u001b[0m \u001b[0mcursor\u001b[0m\u001b[0;34m.\u001b[0m\u001b[0mnext\u001b[0m\u001b[0;34m(\u001b[0m\u001b[0;34m)\u001b[0m\u001b[0;34m\u001b[0m\u001b[0m\n\u001b[0m\u001b[1;32m      5\u001b[0m         \u001b[0;32mexcept\u001b[0m \u001b[0mtweepy\u001b[0m\u001b[0;34m.\u001b[0m\u001b[0mRateLimitError\u001b[0m\u001b[0;34m:\u001b[0m\u001b[0;34m\u001b[0m\u001b[0m\n\u001b[1;32m      6\u001b[0m             \u001b[0mtime\u001b[0m\u001b[0;34m.\u001b[0m\u001b[0msleep\u001b[0m\u001b[0;34m(\u001b[0m\u001b[0;36m15\u001b[0m \u001b[0;34m*\u001b[0m \u001b[0;36m60\u001b[0m\u001b[0;34m)\u001b[0m\u001b[0;34m\u001b[0m\u001b[0m\n",
      "\u001b[0;32m/Users/andric/anaconda/lib/python2.7/site-packages/tweepy/cursor.pyc\u001b[0m in \u001b[0;36mnext\u001b[0;34m(self)\u001b[0m\n\u001b[1;32m    195\u001b[0m         \u001b[0;32mif\u001b[0m \u001b[0mself\u001b[0m\u001b[0;34m.\u001b[0m\u001b[0mcurrent_page\u001b[0m \u001b[0;32mis\u001b[0m \u001b[0mNone\u001b[0m \u001b[0;32mor\u001b[0m \u001b[0mself\u001b[0m\u001b[0;34m.\u001b[0m\u001b[0mpage_index\u001b[0m \u001b[0;34m==\u001b[0m \u001b[0mlen\u001b[0m\u001b[0;34m(\u001b[0m\u001b[0mself\u001b[0m\u001b[0;34m.\u001b[0m\u001b[0mcurrent_page\u001b[0m\u001b[0;34m)\u001b[0m \u001b[0;34m-\u001b[0m \u001b[0;36m1\u001b[0m\u001b[0;34m:\u001b[0m\u001b[0;34m\u001b[0m\u001b[0m\n\u001b[1;32m    196\u001b[0m             \u001b[0;31m# Reached end of current page, get the next page...\u001b[0m\u001b[0;34m\u001b[0m\u001b[0;34m\u001b[0m\u001b[0m\n\u001b[0;32m--> 197\u001b[0;31m             \u001b[0mself\u001b[0m\u001b[0;34m.\u001b[0m\u001b[0mcurrent_page\u001b[0m \u001b[0;34m=\u001b[0m \u001b[0mself\u001b[0m\u001b[0;34m.\u001b[0m\u001b[0mpage_iterator\u001b[0m\u001b[0;34m.\u001b[0m\u001b[0mnext\u001b[0m\u001b[0;34m(\u001b[0m\u001b[0;34m)\u001b[0m\u001b[0;34m\u001b[0m\u001b[0m\n\u001b[0m\u001b[1;32m    198\u001b[0m             \u001b[0mself\u001b[0m\u001b[0;34m.\u001b[0m\u001b[0mpage_index\u001b[0m \u001b[0;34m=\u001b[0m \u001b[0;34m-\u001b[0m\u001b[0;36m1\u001b[0m\u001b[0;34m\u001b[0m\u001b[0m\n\u001b[1;32m    199\u001b[0m         \u001b[0mself\u001b[0m\u001b[0;34m.\u001b[0m\u001b[0mpage_index\u001b[0m \u001b[0;34m+=\u001b[0m \u001b[0;36m1\u001b[0m\u001b[0;34m\u001b[0m\u001b[0m\n",
      "\u001b[0;32m/Users/andric/anaconda/lib/python2.7/site-packages/tweepy/cursor.pyc\u001b[0m in \u001b[0;36mnext\u001b[0;34m(self)\u001b[0m\n\u001b[1;32m    106\u001b[0m \u001b[0;34m\u001b[0m\u001b[0m\n\u001b[1;32m    107\u001b[0m         \u001b[0;32mif\u001b[0m \u001b[0mself\u001b[0m\u001b[0;34m.\u001b[0m\u001b[0mindex\u001b[0m \u001b[0;34m>=\u001b[0m \u001b[0mlen\u001b[0m\u001b[0;34m(\u001b[0m\u001b[0mself\u001b[0m\u001b[0;34m.\u001b[0m\u001b[0mresults\u001b[0m\u001b[0;34m)\u001b[0m \u001b[0;34m-\u001b[0m \u001b[0;36m1\u001b[0m\u001b[0;34m:\u001b[0m\u001b[0;34m\u001b[0m\u001b[0m\n\u001b[0;32m--> 108\u001b[0;31m             \u001b[0mdata\u001b[0m \u001b[0;34m=\u001b[0m \u001b[0mself\u001b[0m\u001b[0;34m.\u001b[0m\u001b[0mmethod\u001b[0m\u001b[0;34m(\u001b[0m\u001b[0mmax_id\u001b[0m\u001b[0;34m=\u001b[0m\u001b[0mself\u001b[0m\u001b[0;34m.\u001b[0m\u001b[0mmax_id\u001b[0m\u001b[0;34m,\u001b[0m \u001b[0mparser\u001b[0m\u001b[0;34m=\u001b[0m\u001b[0mRawParser\u001b[0m\u001b[0;34m(\u001b[0m\u001b[0;34m)\u001b[0m\u001b[0;34m,\u001b[0m \u001b[0;34m*\u001b[0m\u001b[0mself\u001b[0m\u001b[0;34m.\u001b[0m\u001b[0margs\u001b[0m\u001b[0;34m,\u001b[0m \u001b[0;34m**\u001b[0m\u001b[0mself\u001b[0m\u001b[0;34m.\u001b[0m\u001b[0mkargs\u001b[0m\u001b[0;34m)\u001b[0m\u001b[0;34m\u001b[0m\u001b[0m\n\u001b[0m\u001b[1;32m    109\u001b[0m \u001b[0;34m\u001b[0m\u001b[0m\n\u001b[1;32m    110\u001b[0m             \u001b[0;32mif\u001b[0m \u001b[0mhasattr\u001b[0m\u001b[0;34m(\u001b[0m\u001b[0mself\u001b[0m\u001b[0;34m.\u001b[0m\u001b[0mmethod\u001b[0m\u001b[0;34m,\u001b[0m \u001b[0;34m'__self__'\u001b[0m\u001b[0;34m)\u001b[0m\u001b[0;34m:\u001b[0m\u001b[0;34m\u001b[0m\u001b[0m\n",
      "\u001b[0;32m/Users/andric/anaconda/lib/python2.7/site-packages/tweepy/binder.pyc\u001b[0m in \u001b[0;36m_call\u001b[0;34m(*args, **kwargs)\u001b[0m\n\u001b[1;32m    243\u001b[0m             \u001b[0;32mreturn\u001b[0m \u001b[0mmethod\u001b[0m\u001b[0;34m\u001b[0m\u001b[0m\n\u001b[1;32m    244\u001b[0m         \u001b[0;32melse\u001b[0m\u001b[0;34m:\u001b[0m\u001b[0;34m\u001b[0m\u001b[0m\n\u001b[0;32m--> 245\u001b[0;31m             \u001b[0;32mreturn\u001b[0m \u001b[0mmethod\u001b[0m\u001b[0;34m.\u001b[0m\u001b[0mexecute\u001b[0m\u001b[0;34m(\u001b[0m\u001b[0;34m)\u001b[0m\u001b[0;34m\u001b[0m\u001b[0m\n\u001b[0m\u001b[1;32m    246\u001b[0m \u001b[0;34m\u001b[0m\u001b[0m\n\u001b[1;32m    247\u001b[0m     \u001b[0;31m# Set pagination mode\u001b[0m\u001b[0;34m\u001b[0m\u001b[0;34m\u001b[0m\u001b[0m\n",
      "\u001b[0;32m/Users/andric/anaconda/lib/python2.7/site-packages/tweepy/binder.pyc\u001b[0m in \u001b[0;36mexecute\u001b[0;34m(self)\u001b[0m\n\u001b[1;32m    187\u001b[0m                                                 proxies=self.api.proxy)\n\u001b[1;32m    188\u001b[0m                 \u001b[0;32mexcept\u001b[0m \u001b[0mException\u001b[0m \u001b[0;32mas\u001b[0m \u001b[0me\u001b[0m\u001b[0;34m:\u001b[0m\u001b[0;34m\u001b[0m\u001b[0m\n\u001b[0;32m--> 189\u001b[0;31m                     \u001b[0;32mraise\u001b[0m \u001b[0mTweepError\u001b[0m\u001b[0;34m(\u001b[0m\u001b[0;34m'Failed to send request: %s'\u001b[0m \u001b[0;34m%\u001b[0m \u001b[0me\u001b[0m\u001b[0;34m)\u001b[0m\u001b[0;34m\u001b[0m\u001b[0m\n\u001b[0m\u001b[1;32m    190\u001b[0m                 \u001b[0mrem_calls\u001b[0m \u001b[0;34m=\u001b[0m \u001b[0mresp\u001b[0m\u001b[0;34m.\u001b[0m\u001b[0mheaders\u001b[0m\u001b[0;34m.\u001b[0m\u001b[0mget\u001b[0m\u001b[0;34m(\u001b[0m\u001b[0;34m'x-rate-limit-remaining'\u001b[0m\u001b[0;34m)\u001b[0m\u001b[0;34m\u001b[0m\u001b[0m\n\u001b[1;32m    191\u001b[0m                 \u001b[0;32mif\u001b[0m \u001b[0mrem_calls\u001b[0m \u001b[0;32mis\u001b[0m \u001b[0;32mnot\u001b[0m \u001b[0mNone\u001b[0m\u001b[0;34m:\u001b[0m\u001b[0;34m\u001b[0m\u001b[0m\n",
      "\u001b[0;31mTweepError\u001b[0m: Failed to send request: HTTPSConnectionPool(host='api.twitter.com', port=443): Read timed out."
     ]
    }
   ],
   "source": [
    "la_last_id = -1\n",
    "chi_last_id = -1\n",
    "hou_last_id = -1\n",
    "\n",
    "for i in range(1, 10):\n",
    "    # If results only below a specific ID are, set max_id to that ID.\n",
    "    # else default to no upper limit, start from the most recent tweet matching the search query.\n",
    "    max_id = -1L\n",
    "    if (max_id <= 0):\n",
    "        with open('tweets_csvs/tweets_la%d.csv' % i, 'w') as csvfile:\n",
    "            tweetwriter = csv.writer(csvfile, delimiter = ',')\n",
    "            for tweet in limit_handled(tweepy.Cursor(api.search,q=\"*\",count=15000,max_id=str(la_last_id - 1),\n",
    "                                                     geocode=\"34.0904489,-118.2305523,25km\").items(15000)):\n",
    "                if hasattr(tweet, 'retweeted_status'):\n",
    "                    rtweet = 1\n",
    "                    rtweet_txt = tweet.retweeted_status.text.encode('utf-8')\n",
    "                else:\n",
    "                    rtweet = 0\n",
    "                    rtweet_txt = 'NO_RT'\n",
    "                tweetwriter.writerow([tweet.id_str, tweet.user.screen_name, tweet.user.followers_count,\n",
    "                                      tweet.user.statuses_count, tweet.text.encode('utf-8'),\n",
    "                                      rtweet, tweet.retweet_count, rtweet_txt, tweet.favorite_count])\n",
    "        la_last_id = tweet.id\n",
    "        time.sleep(3 * 60)\n",
    "        try:\n",
    "            with open('tweets_csvs/tweets_chi%d.csv' % i, 'w') as csvfile:\n",
    "                tweetwriter = csv.writer(csvfile, delimiter = ',')\n",
    "                for tweet in limit_handled(tweepy.Cursor(api.search,q=\"*\",count=15000,max_id=str(chi_last_id - 1),\n",
    "                                                         geocode=\"41.8788493,-87.6275801,25km\").items(15000)):\n",
    "                    if hasattr(tweet, 'retweeted_status'):\n",
    "                        rtweet = 1\n",
    "                        rtweet_txt = tweet.retweeted_status.text.encode('utf-8')\n",
    "                    else:\n",
    "                        rtweet = 0\n",
    "                        rtweet_txt = 'NO_RT'\n",
    "                    tweetwriter.writerow([tweet.id_str, tweet.user.screen_name, tweet.user.followers_count,\n",
    "                                          tweet.user.statuses_count, tweet.text.encode('utf-8'),\n",
    "                                          rtweet, tweet.retweet_count, rtweet_txt, tweet.favorite_count])\n",
    "            chi_last_id = tweet.id\n",
    "            time.sleep(3 * 60)\n",
    "        except tweepy.TweepError as e:\n",
    "            continue\n",
    "        try:\n",
    "            with open('tweets_csvs/tweets_hou%d.csv' % i, 'w') as csvfile:\n",
    "                tweetwriter = csv.writer(csvfile, delimiter = ',')\n",
    "                for tweet in limit_handled(tweepy.Cursor(api.search,q=\"*\",count=15000,max_id=str(hou_last_id - 1),\n",
    "                                                         geocode=\"29.8384701,-95.4465094,25km\").items(15000)):\n",
    "                    if hasattr(tweet, 'retweeted_status'):\n",
    "                        rtweet = 1\n",
    "                        rtweet_txt = tweet.retweeted_status.text.encode('utf-8')\n",
    "                    else:\n",
    "                        rtweet = 0\n",
    "                        rtweet_txt = 'NO_RT'\n",
    "                    tweetwriter.writerow([tweet.id_str, tweet.user.screen_name, tweet.user.followers_count,\n",
    "                                          tweet.user.statuses_count, tweet.text.encode('utf-8'),\n",
    "                                          rtweet, tweet.retweet_count, rtweet_txt, tweet.favorite_count])\n",
    "            hou_last_id = tweet.id\n",
    "            time.sleep(3 * 60)\n",
    "        except tweepy.TweepError as e:\n",
    "            continue\n",
    "    max_id = tweet.id_str"
   ]
  },
  {
   "cell_type": "code",
   "execution_count": 21,
   "metadata": {},
   "outputs": [
    {
     "name": "stdout",
     "output_type": "stream",
     "text": [
      "Rate limit reached. Sleeping for: 188\n",
      "Rate limit reached. Sleeping for: 22\n"
     ]
    }
   ],
   "source": [
    "num_tweets = 15000\n",
    "cities = {'la': \"34.0904489,-118.2305523,25km\",\n",
    "          'chi': \"41.8788493,-87.6275801,25km\",\n",
    "          'hou': \"29.8384701,-95.4465094,25km\"}\n",
    "\n",
    "#tweetids = {'la': -1, 'chi': -1, 'hou': -1}\n",
    "\n",
    "max_id = -1L\n",
    "for i in range(24, 27):\n",
    "    for city in cities:\n",
    "        try:\n",
    "            with open('tweets_csvs/tweets_%s%d.csv' % (city, i), 'w') as csvfile:\n",
    "                tweetwriter = csv.writer(csvfile, delimiter = ',')\n",
    "                for tweet in limit_handled(tweepy.Cursor(api.search,q=\"*\",\n",
    "                                                         count=num_tweets,\n",
    "                                                         max_id=str(tweetids[city] - 1),\n",
    "                                                         geocode=cities[city]).items(num_tweets)):\n",
    "                    if hasattr(tweet, 'retweeted_status'):\n",
    "                        rtweet = 1\n",
    "                        rtweet_txt = tweet.retweeted_status.text.encode('utf-8')\n",
    "                    else:\n",
    "                        rtweet = 0\n",
    "                        rtweet_txt = 'NO_RT'\n",
    "                    tweetwriter.writerow([tweet.id_str, tweet.user.screen_name, tweet.user.followers_count,\n",
    "                                          tweet.user.statuses_count, tweet.text.encode('utf-8'),\n",
    "                                          rtweet, tweet.retweet_count, rtweet_txt, tweet.favorite_count])\n",
    "            tweetids[city] = tweet.id\n",
    "            time.sleep(3 * 60)\n",
    "        except tweepy.TweepError as e:\n",
    "            continue\n"
   ]
  },
  {
   "cell_type": "code",
   "execution_count": 23,
   "metadata": {},
   "outputs": [
    {
     "data": {
      "text/plain": [
       "{'chi': 876116451517661186,\n",
       " 'hou': 876014460477075456,\n",
       " 'la': 876262576316874753}"
      ]
     },
     "execution_count": 23,
     "metadata": {},
     "output_type": "execute_result"
    }
   ],
   "source": [
    "tweetids"
   ]
  }
 ],
 "metadata": {
  "anaconda-cloud": {},
  "kernelspec": {
   "display_name": "Python 3",
   "language": "python",
   "name": "python3"
  },
  "language_info": {
   "codemirror_mode": {
    "name": "ipython",
    "version": 3
   },
   "file_extension": ".py",
   "mimetype": "text/x-python",
   "name": "python",
   "nbconvert_exporter": "python",
   "pygments_lexer": "ipython3",
   "version": "3.6.2"
  }
 },
 "nbformat": 4,
 "nbformat_minor": 1
}
