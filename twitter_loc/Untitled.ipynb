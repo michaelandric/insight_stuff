{
 "cells": [
  {
   "cell_type": "markdown",
   "metadata": {},
   "source": [
    "## eliminate low information features\n",
    "from: http://streamhacker.com/tag/chi-square/"
   ]
  },
  {
   "cell_type": "code",
   "execution_count": 13,
   "metadata": {
    "collapsed": false,
    "scrolled": true
   },
   "outputs": [
    {
     "name": "stdout",
     "output_type": "stream",
     "text": [
      "evaluating single word features\n",
      "accuracy: 0.728\n",
      "pos precision: 0.651595744681\n",
      "pos recall: 0.98\n",
      "neg precision: 0.959677419355\n",
      "neg recall: 0.476\n",
      "Most Informative Features\n",
      "             magnificent = True              pos : neg    =     15.0 : 1.0\n",
      "             outstanding = True              pos : neg    =     13.6 : 1.0\n",
      "               insulting = True              neg : pos    =     13.0 : 1.0\n",
      "              vulnerable = True              pos : neg    =     12.3 : 1.0\n",
      "               ludicrous = True              neg : pos    =     11.8 : 1.0\n",
      "                  avoids = True              pos : neg    =     11.7 : 1.0\n",
      "             uninvolving = True              neg : pos    =     11.7 : 1.0\n",
      "              astounding = True              pos : neg    =     10.3 : 1.0\n",
      "             fascination = True              pos : neg    =     10.3 : 1.0\n",
      "                 idiotic = True              neg : pos    =      9.8 : 1.0\n",
      "evaluating best word features\n",
      "accuracy: 0.932\n",
      "pos precision: 0.894160583942\n",
      "pos recall: 0.98\n",
      "neg precision: 0.977876106195\n",
      "neg recall: 0.884\n",
      "Most Informative Features\n",
      "             magnificent = True              pos : neg    =     15.0 : 1.0\n",
      "             outstanding = True              pos : neg    =     13.6 : 1.0\n",
      "               insulting = True              neg : pos    =     13.0 : 1.0\n",
      "              vulnerable = True              pos : neg    =     12.3 : 1.0\n",
      "               ludicrous = True              neg : pos    =     11.8 : 1.0\n",
      "                  avoids = True              pos : neg    =     11.7 : 1.0\n",
      "             uninvolving = True              neg : pos    =     11.7 : 1.0\n",
      "              astounding = True              pos : neg    =     10.3 : 1.0\n",
      "             fascination = True              pos : neg    =     10.3 : 1.0\n",
      "                 idiotic = True              neg : pos    =      9.8 : 1.0\n",
      "evaluating best words + bigram chi_sq word features\n",
      "accuracy: 0.92\n",
      "pos precision: 0.913385826772\n",
      "pos recall: 0.928\n",
      "neg precision: 0.926829268293\n",
      "neg recall: 0.912\n",
      "Most Informative Features\n",
      "             magnificent = True              pos : neg    =     15.0 : 1.0\n",
      "             outstanding = True              pos : neg    =     13.6 : 1.0\n",
      "               insulting = True              neg : pos    =     13.0 : 1.0\n",
      "              vulnerable = True              pos : neg    =     12.3 : 1.0\n",
      "     (u'matt', u'damon') = True              pos : neg    =     12.3 : 1.0\n",
      "        (u'give', u'us') = True              neg : pos    =     12.3 : 1.0\n",
      "               ludicrous = True              neg : pos    =     11.8 : 1.0\n",
      "             uninvolving = True              neg : pos    =     11.7 : 1.0\n",
      "                  avoids = True              pos : neg    =     11.7 : 1.0\n",
      "  (u'absolutely', u'no') = True              neg : pos    =     10.6 : 1.0\n"
     ]
    }
   ],
   "source": [
    "import collections, itertools\n",
    "import nltk.classify.util, nltk.metrics\n",
    "from nltk.metrics.scores import precision\n",
    "from nltk.metrics.scores import recall\n",
    "from nltk.classify import NaiveBayesClassifier\n",
    "from nltk.corpus import movie_reviews, stopwords\n",
    "from nltk.collocations import BigramCollocationFinder\n",
    "from nltk.metrics import BigramAssocMeasures\n",
    "from nltk.probability import FreqDist, ConditionalFreqDist\n",
    " \n",
    "def evaluate_classifier(featx):\n",
    "    negids = movie_reviews.fileids('neg')\n",
    "    posids = movie_reviews.fileids('pos')\n",
    " \n",
    "    negfeats = [(featx(movie_reviews.words(fileids=[f])), 'neg') for f in negids]\n",
    "    posfeats = [(featx(movie_reviews.words(fileids=[f])), 'pos') for f in posids]\n",
    " \n",
    "    negcutoff = len(negfeats)*3/4\n",
    "    poscutoff = len(posfeats)*3/4\n",
    " \n",
    "    trainfeats = negfeats[:negcutoff] + posfeats[:poscutoff]\n",
    "    testfeats = negfeats[negcutoff:] + posfeats[poscutoff:]\n",
    " \n",
    "    classifier = NaiveBayesClassifier.train(trainfeats)\n",
    "    refsets = collections.defaultdict(set)\n",
    "    testsets = collections.defaultdict(set)\n",
    " \n",
    "    for i, (feats, label) in enumerate(testfeats):\n",
    "            refsets[label].add(i)\n",
    "            observed = classifier.classify(feats)\n",
    "            testsets[observed].add(i)\n",
    " \n",
    "    print 'accuracy:', nltk.classify.util.accuracy(classifier, testfeats)\n",
    "    print 'pos precision:', precision(refsets['pos'], testsets['pos'])\n",
    "    print 'pos recall:', recall(refsets['pos'], testsets['pos'])\n",
    "    print 'neg precision:', precision(refsets['neg'], testsets['neg'])\n",
    "    print 'neg recall:', recall(refsets['neg'], testsets['neg'])\n",
    "    classifier.show_most_informative_features()\n",
    " \n",
    "def word_feats(words):\n",
    "    return dict([(word, True) for word in words])\n",
    " \n",
    "print 'evaluating single word features'\n",
    "evaluate_classifier(word_feats)\n",
    " \n",
    "word_fd = FreqDist()\n",
    "label_word_fd = ConditionalFreqDist()\n",
    " \n",
    "for word in movie_reviews.words(categories=['pos']):\n",
    "    word_fd[word.lower()] += 1\n",
    "    label_word_fd['pos'][word.lower()] += 1\n",
    " \n",
    "for word in movie_reviews.words(categories=['neg']):\n",
    "    word_fd[word.lower()] += 1\n",
    "    label_word_fd['neg'][word.lower()] += 1\n",
    " \n",
    "# n_ii = label_word_fd[label][word]\n",
    "# n_ix = word_fd[word]\n",
    "# n_xi = label_word_fd[label].N()\n",
    "# n_xx = label_word_fd.N()\n",
    " \n",
    "pos_word_count = label_word_fd['pos'].N()\n",
    "neg_word_count = label_word_fd['neg'].N()\n",
    "total_word_count = pos_word_count + neg_word_count\n",
    " \n",
    "word_scores = {}\n",
    " \n",
    "for word, freq in word_fd.iteritems():\n",
    "    pos_score = BigramAssocMeasures.chi_sq(label_word_fd['pos'][word],\n",
    "        (freq, pos_word_count), total_word_count)\n",
    "    neg_score = BigramAssocMeasures.chi_sq(label_word_fd['neg'][word],\n",
    "        (freq, neg_word_count), total_word_count)\n",
    "    word_scores[word] = pos_score + neg_score\n",
    " \n",
    "best = sorted(word_scores.iteritems(), key=lambda (w,s): s, reverse=True)[:10000]\n",
    "bestwords = set([w for w, s in best])\n",
    " \n",
    "def best_word_feats(words):\n",
    "    return dict([(word, True) for word in words if word in bestwords])\n",
    " \n",
    "print 'evaluating best word features'\n",
    "evaluate_classifier(best_word_feats)\n",
    " \n",
    "def best_bigram_word_feats(words, score_fn=BigramAssocMeasures.chi_sq, n=200):\n",
    "    bigram_finder = BigramCollocationFinder.from_words(words)\n",
    "    bigrams = bigram_finder.nbest(score_fn, n)\n",
    "    d = dict([(bigram, True) for bigram in bigrams])\n",
    "    d.update(best_word_feats(words))\n",
    "    return d\n",
    " \n",
    "print 'evaluating best words + bigram chi_sq word features'\n",
    "evaluate_classifier(best_bigram_word_feats)"
   ]
  },
  {
   "cell_type": "code",
   "execution_count": 10,
   "metadata": {
    "collapsed": false
   },
   "outputs": [],
   "source": [
    "from nltk.metrics.scores import precision"
   ]
  },
  {
   "cell_type": "code",
   "execution_count": 30,
   "metadata": {
    "collapsed": false
   },
   "outputs": [
    {
     "data": {
      "text/plain": [
       "({u',': True,\n",
       "  u'a': True,\n",
       "  u'american': True,\n",
       "  u'apparently': True,\n",
       "  u'director': True,\n",
       "  u'film': True,\n",
       "  u'had': True,\n",
       "  u'his': True,\n",
       "  u'history': True,\n",
       "  u'kaye': True,\n",
       "  u'new': True,\n",
       "  u'tony': True,\n",
       "  u'with': True},\n",
       " 'pos')"
      ]
     },
     "execution_count": 30,
     "metadata": {},
     "output_type": "execute_result"
    }
   ],
   "source": [
    "(best_word_feats(movie_reviews.words('pos/cv006_15448.txt')[:20]), 'pos')"
   ]
  },
  {
   "cell_type": "code",
   "execution_count": 34,
   "metadata": {
    "collapsed": false
   },
   "outputs": [
    {
     "data": {
      "text/plain": [
       "[u'apparently',\n",
       " u',',\n",
       " u'director',\n",
       " u'tony',\n",
       " u'kaye',\n",
       " u'had',\n",
       " u'a',\n",
       " u'major',\n",
       " u'battle',\n",
       " u'with',\n",
       " u'new',\n",
       " u'line',\n",
       " u'regarding',\n",
       " u'his',\n",
       " u'new',\n",
       " u'film',\n",
       " u',',\n",
       " u'american',\n",
       " u'history',\n",
       " u'x']"
      ]
     },
     "execution_count": 34,
     "metadata": {},
     "output_type": "execute_result"
    }
   ],
   "source": []
  },
  {
   "cell_type": "code",
   "execution_count": 11,
   "metadata": {
    "collapsed": false
   },
   "outputs": [
    {
     "name": "stdout",
     "output_type": "stream",
     "text": [
      "Help on function precision in module nltk.metrics.scores:\n",
      "\n",
      "precision(reference, test)\n",
      "    Given a set of reference values and a set of test values, return\n",
      "    the fraction of test values that appear in the reference set.\n",
      "    In particular, return card(``reference`` intersection ``test``)/card(``test``).\n",
      "    If ``test`` is empty, then return None.\n",
      "    \n",
      "    :type reference: set\n",
      "    :param reference: A set of reference values.\n",
      "    :type test: set\n",
      "    :param test: A set of values to compare against the reference set.\n",
      "    :rtype: float or None\n",
      "\n"
     ]
    }
   ],
   "source": [
    "import collections, itertools\n",
    "import nltk.classify.util, nltk.metrics\n",
    "from nltk.metrics.scores import precision\n",
    "from nltk.metrics.scores import recall\n",
    "from nltk.classify import NaiveBayesClassifier\n",
    "from nltk.corpus import movie_reviews, stopwords\n",
    "from nltk.collocations import BigramCollocationFinder\n",
    "from nltk.metrics import BigramAssocMeasures\n",
    "from nltk.probability import FreqDist, ConditionalFreqDist\n",
    " \n",
    "def evaluate_classifier(featx):\n",
    "    non_poplr_feats = [(featx(tknzr.tokenize(f.as_matrix())), 'nonpoplr') for f in no_rt_all_tweet_df['tweet']]\n",
    "    poplr_feats = [(featx(tknzr.tokenize(f.as_matrix())), 'poplr') for f in all_tweet_df['tweet']]\n",
    " \n",
    "    nonpoplrcutoff = len(non_poplr_feats)*3/4\n",
    "    poplrcutoff = len(poplr_feats)*3/4\n",
    " \n",
    "    trainfeats = non_poplr_feats[:nonpoplrcutoff] + poplr_feats[:poplrcutoff]\n",
    "    testfeats = non_poplr_feats[nonpoplrcutoff:] + poplr_feats[poplrcutoff:]\n",
    " \n",
    "    classifier = NaiveBayesClassifier.train(trainfeats)\n",
    "    refsets = collections.defaultdict(set)\n",
    "    testsets = collections.defaultdict(set)\n",
    " \n",
    "    for i, (feats, label) in enumerate(testfeats):\n",
    "            refsets[label].add(i)\n",
    "            observed = classifier.classify(feats)\n",
    "            testsets[observed].add(i)\n",
    " \n",
    "    print 'accuracy:', nltk.classify.util.accuracy(classifier, testfeats)\n",
    "    print 'poplr precision:', precision(refsets['poplr'], testsets['poplr'])\n",
    "    print 'poplr recall:', recall(refsets['poplr'], testsets['poplr'])\n",
    "    print 'nonpoplr precision:', precision(refsets['nonpoplr'], testsets['nonpoplr'])\n",
    "    print 'nonpoplr recall:', recall(refsets['nonpoplr'], testsets['nonpoplr'])\n",
    "    classifier.show_most_informative_features()\n",
    " \n",
    "def word_feats(words):\n",
    "    return dict([(word, True) for word in words])\n",
    " \n",
    "print 'evaluating single word features'\n",
    "evaluate_classifier(word_feats)\n",
    " \n",
    "word_fd = FreqDist()\n",
    "label_word_fd = ConditionalFreqDist()\n",
    "\n",
    "poplr_results = set()\n",
    "poplr_results = all_tweet_df['tweet'].str.lower().str.split().apply(poplr_results.update)\n",
    "for word in tknzr.tokenize(re.sub(r\"http\\S+\", \"\", ' '.join(list(poplr_results)))):\n",
    "    word_fd[word.lower()] += 1\n",
    "    label_word_fd['poplr'][word.lower()] += 1\n",
    "\n",
    "nonpoplr_results = set()\n",
    "nonpoplr_results = all_tweet_df['tweet'].str.lower().str.split().apply(nonpoplr_results.update)\n",
    "for word in tknzr.tokenize(re.sub(r\"http\\S+\", \"\", ' '.join(list(nonpoplr_results)))):\n",
    "    word_fd[word.lower()] += 1\n",
    "    label_word_fd['nonpoplr'][word.lower()] += 1\n",
    " \n",
    "# n_ii = label_word_fd[label][word]\n",
    "# n_ix = word_fd[word]\n",
    "# n_xi = label_word_fd[label].N()\n",
    "# n_xx = label_word_fd.N()\n",
    " \n",
    "poplr_word_count = label_word_fd['poplr'].N()\n",
    "nonpoplr_word_count = label_word_fd['nonpoplr'].N()\n",
    "total_word_count = poplr_word_count + nonpoplr_word_count\n",
    " \n",
    "word_scores = {}\n",
    " \n",
    "for word, freq in word_fd.iteritems():\n",
    "    poplr_score = BigramAssocMeasures.chi_sq(label_word_fd['poplr'][word],\n",
    "        (freq, poplr_word_count), total_word_count)\n",
    "    nonpoplr_score = BigramAssocMeasures.chi_sq(label_word_fd['nonpoplr'][word],\n",
    "        (freq, nonpoplr_word_count), total_word_count)\n",
    "    word_scores[word] = poplr_score + nonpoplr_score\n",
    " \n",
    "best = sorted(word_scores.iteritems(), key=lambda (w,s): s, reverse=True)[:10000]\n",
    "bestwords = set([w for w, s in best])\n",
    " \n",
    "def best_word_feats(words):\n",
    "    return dict([(word, True) for word in words if word in bestwords])\n",
    " \n",
    "print 'evaluating best word features'\n",
    "evaluate_classifier(best_word_feats)\n",
    " \n",
    "def best_bigram_word_feats(words, score_fn=BigramAssocMeasures.chi_sq, n=200):\n",
    "    bigram_finder = BigramCollocationFinder.from_words(words)\n",
    "    bigrams = bigram_finder.nbest(score_fn, n)\n",
    "    d = dict([(bigram, True) for bigram in bigrams])\n",
    "    d.update(best_word_feats(words))\n",
    "    return d\n",
    " \n",
    "print 'evaluating best words + bigram chi_sq word features'\n",
    "evaluate_classifier(best_bigram_word_feats)"
   ]
  },
  {
   "cell_type": "code",
   "execution_count": 40,
   "metadata": {
    "collapsed": false
   },
   "outputs": [
    {
     "data": {
      "text/plain": [
       "832564"
      ]
     },
     "execution_count": 40,
     "metadata": {},
     "output_type": "execute_result"
    }
   ],
   "source": [
    "len(movie_reviews.words(categories=['pos']))"
   ]
  },
  {
   "cell_type": "code",
   "execution_count": 45,
   "metadata": {
    "collapsed": false
   },
   "outputs": [
    {
     "data": {
      "text/plain": [
       "3"
      ]
     },
     "execution_count": 45,
     "metadata": {},
     "output_type": "execute_result"
    }
   ],
   "source": [
    "len([(word_feats(movie_reviews.words(fileids=[f])), 'neg') for f in movie_reviews.fileids('neg')[:3]])"
   ]
  },
  {
   "cell_type": "code",
   "execution_count": 43,
   "metadata": {
    "collapsed": false
   },
   "outputs": [
    {
     "ename": "NameError",
     "evalue": "name 'negids' is not defined",
     "output_type": "error",
     "traceback": [
      "\u001b[0;31m---------------------------------------------------------------------------\u001b[0m",
      "\u001b[0;31mNameError\u001b[0m                                 Traceback (most recent call last)",
      "\u001b[0;32m<ipython-input-43-07c8b7a0c505>\u001b[0m in \u001b[0;36m<module>\u001b[0;34m()\u001b[0m\n\u001b[0;32m----> 1\u001b[0;31m \u001b[0mnegids\u001b[0m\u001b[0;34m\u001b[0m\u001b[0m\n\u001b[0m",
      "\u001b[0;31mNameError\u001b[0m: name 'negids' is not defined"
     ]
    }
   ],
   "source": [
    "negids"
   ]
  }
 ],
 "metadata": {
  "anaconda-cloud": {},
  "kernelspec": {
   "display_name": "Python 2",
   "language": "python",
   "name": "python2"
  },
  "language_info": {
   "codemirror_mode": {
    "name": "ipython",
    "version": 2
   },
   "file_extension": ".py",
   "mimetype": "text/x-python",
   "name": "python",
   "nbconvert_exporter": "python",
   "pygments_lexer": "ipython2",
   "version": "2.7.11"
  }
 },
 "nbformat": 4,
 "nbformat_minor": 0
}
