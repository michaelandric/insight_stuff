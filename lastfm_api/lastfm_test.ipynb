{
 "cells": [
  {
   "cell_type": "code",
   "execution_count": 98,
   "metadata": {
    "collapsed": true
   },
   "outputs": [],
   "source": [
    "import pylast"
   ]
  },
  {
   "cell_type": "code",
   "execution_count": 99,
   "metadata": {
    "collapsed": true
   },
   "outputs": [],
   "source": [
    "API_KEY = \"8b06155df5785f0aabe8027905830cc0\"\n",
    "API_SECRET = \"2687c4f03cb681ac01b322cc81a8daf9\"\n",
    "username = \"michaelandric13\"\n",
    "password_hash = pylast.md5(\"m3#cw*xVe1RS$*9q\")"
   ]
  },
  {
   "cell_type": "code",
   "execution_count": 100,
   "metadata": {
    "collapsed": true
   },
   "outputs": [],
   "source": [
    "network = pylast.LastFMNetwork(api_key=API_KEY, api_secret=API_SECRET,\n",
    "                               username=username, password_hash=password_hash)"
   ]
  },
  {
   "cell_type": "code",
   "execution_count": 101,
   "metadata": {
    "collapsed": false
   },
   "outputs": [],
   "source": [
    "# Now you can use that object everywhere\n",
    "artist = network.get_artist(\"spiritualized\")"
   ]
  },
  {
   "cell_type": "code",
   "execution_count": 9,
   "metadata": {
    "collapsed": false
   },
   "outputs": [],
   "source": [
    "track = network.get_track(\"Iron Maiden\", \"The Nomad\")"
   ]
  },
  {
   "cell_type": "code",
   "execution_count": 102,
   "metadata": {
    "collapsed": false
   },
   "outputs": [],
   "source": [
    "toptracks = network.get_geo_top_tracks(country=\"united states\", limit=20)"
   ]
  },
  {
   "cell_type": "code",
   "execution_count": 103,
   "metadata": {
    "collapsed": false
   },
   "outputs": [
    {
     "data": {
      "text/plain": [
       "u'HUMBLE.'"
      ]
     },
     "execution_count": 103,
     "metadata": {},
     "output_type": "execute_result"
    }
   ],
   "source": [
    "network.get_top_tracks()[0].item.get_name()"
   ]
  },
  {
   "cell_type": "code",
   "execution_count": 108,
   "metadata": {
    "collapsed": false
   },
   "outputs": [
    {
     "data": {
      "text/plain": [
       "u'Hotline Bling'"
      ]
     },
     "execution_count": 108,
     "metadata": {},
     "output_type": "execute_result"
    }
   ],
   "source": [
    "toptracks[0].item.get_name()"
   ]
  },
  {
   "cell_type": "code",
   "execution_count": 109,
   "metadata": {
    "collapsed": true
   },
   "outputs": [],
   "source": [
    "tracklist = []\n",
    "for i in range(10):\n",
    "    tracklist.append(toptracks[i].item.get_name())"
   ]
  },
  {
   "cell_type": "code",
   "execution_count": 112,
   "metadata": {
    "collapsed": false
   },
   "outputs": [
    {
     "name": "stdout",
     "output_type": "stream",
     "text": [
      "Hotline Bling\n",
      "Can't Feel My Face\n",
      "Hello\n",
      "The Hills\n",
      "The Less I Know the Better\n",
      "Burn the Witch\n",
      "Sorry\n",
      "King Kunta\n",
      "Midnight City\n",
      "What Do You Mean?\n"
     ]
    }
   ],
   "source": [
    "for track in tracklist:\n",
    "    print track"
   ]
  },
  {
   "cell_type": "code",
   "execution_count": 113,
   "metadata": {
    "collapsed": false
   },
   "outputs": [
    {
     "name": "stdout",
     "output_type": "stream",
     "text": [
      "Sorry\n",
      "Do I Wanna Know?\n",
      "Can't Feel My Face\n",
      "Hotline Bling\n",
      "Hello\n",
      "Work\n",
      "What Do You Mean?\n",
      "Bitch Better Have My Money\n",
      "Lean On (feat. MØ & DJ Snake)\n",
      "Cheap Thrills\n"
     ]
    }
   ],
   "source": [
    "toptracksBR = network.get_geo_top_tracks(country=\"brazil\", limit=20)\n",
    "tracklistBR = []\n",
    "for i in range(10):\n",
    "    tracklistBR.append(toptracksBR[i].item.get_name())\n",
    "\n",
    "for track in tracklistBR:\n",
    "    print track"
   ]
  },
  {
   "cell_type": "code",
   "execution_count": null,
   "metadata": {
    "collapsed": true
   },
   "outputs": [],
   "source": []
  }
 ],
 "metadata": {
  "anaconda-cloud": {},
  "kernelspec": {
   "display_name": "Python 2",
   "language": "python",
   "name": "python2"
  },
  "language_info": {
   "codemirror_mode": {
    "name": "ipython",
    "version": 2
   },
   "file_extension": ".py",
   "mimetype": "text/x-python",
   "name": "python",
   "nbconvert_exporter": "python",
   "pygments_lexer": "ipython2",
   "version": "2.7.11"
  }
 },
 "nbformat": 4,
 "nbformat_minor": 0
}
