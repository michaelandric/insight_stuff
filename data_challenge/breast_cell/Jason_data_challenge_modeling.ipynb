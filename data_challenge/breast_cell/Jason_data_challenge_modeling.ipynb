{
 "cells": [
  {
   "cell_type": "markdown",
   "metadata": {},
   "source": [
    "Loading the data and extracting out the features for prediction"
   ]
  },
  {
   "cell_type": "code",
   "execution_count": 187,
   "metadata": {
    "collapsed": false
   },
   "outputs": [],
   "source": [
    "%matplotlib inline\n",
    "import matplotlib.pyplot as plt\n",
    "import pandas as pd\n",
    "from sklearn.linear_model import LogisticRegression\n",
    "from sklearn.model_selection import cross_val_score, KFold\n",
    "from sklearn.metrics import roc_curve, roc_auc_score, f1_score, recall_score\n",
    "from sklearn.ensemble import RandomForestClassifier\n",
    "\n",
    "\n",
    "df = pd.read_csv('bc_data_clean.csv')\n",
    "feats = df.dropna().iloc[:,1:10].values"
   ]
  },
  {
   "cell_type": "markdown",
   "metadata": {},
   "source": [
    "### Logistic Regression"
   ]
  },
  {
   "cell_type": "code",
   "execution_count": 188,
   "metadata": {
    "collapsed": false
   },
   "outputs": [
    {
     "name": "stdout",
     "output_type": "stream",
     "text": [
      "AUROC: 1.00\n",
      "f1: 0.93\n",
      "AUROC: 0.99\n",
      "f1: 0.94\n",
      "AUROC: 1.00\n",
      "f1: 0.95\n",
      "AUROC: 1.00\n",
      "f1: 1.00\n"
     ]
    }
   ],
   "source": [
    "X = StandardScaler().fit_transform(feats)\n",
    "y = df.dropna().cancer.values\n",
    "lr = LogisticRegression()\n",
    "forest = RandomForestClassifier(n_estimators=150,)\n",
    "\n",
    "mod = lr\n",
    "\n",
    "kf = KFold(n_splits=4)\n",
    "\n",
    "for train_index, test_index in kf.split(X):\n",
    "    X_train = X[train_index,:]\n",
    "    X_test = X[test_index,:]\n",
    "    y_train = y[train_index]\n",
    "    y_test = y[test_index]\n",
    "    \n",
    "    fit = mod.fit(X_train,y_train)\n",
    "    y_pred = fit.predict_proba(X_test)[:, 1]\n",
    "    fpr_rt_lm, tpr_rt_lm, _ = roc_curve(y_test, y_pred)\n",
    "    print('AUROC: %3.2f' % roc_auc_score(y_test,y_pred))\n",
    "    print('f1: %3.2f' % f1_score(y_test,fit.predict(X_test)))\n",
    "    \n",
    "    "
   ]
  },
  {
   "cell_type": "markdown",
   "metadata": {},
   "source": [
    "### ROC curve for LR"
   ]
  },
  {
   "cell_type": "code",
   "execution_count": 189,
   "metadata": {
    "collapsed": false
   },
   "outputs": [
    {
     "data": {
      "image/png": "[encoded data removed]",
      "text/plain": [
       "<matplotlib.figure.Figure at 0x11b6185f8>"
      ]
     },
     "metadata": {},
     "output_type": "display_data"
    }
   ],
   "source": [
    "plt.figure(1)\n",
    "plt.plot([0, 1], [0, 1], 'k--')\n",
    "plt.plot(fpr_rt_lm, tpr_rt_lm)\n",
    "plt.xlabel('False positive rate')\n",
    "plt.ylabel('True positive rate')\n",
    "plt.title('ROC curve - LR')\n",
    "# plt.legend(loc='best')\n",
    "plt.show()"
   ]
  },
  {
   "cell_type": "markdown",
   "metadata": {},
   "source": [
    "### Random Forest Classification\n",
    "This allows us to easily look at feature importance"
   ]
  },
  {
   "cell_type": "code",
   "execution_count": 190,
   "metadata": {
    "collapsed": false
   },
   "outputs": [
    {
     "name": "stdout",
     "output_type": "stream",
     "text": [
      "AUROC: 0.99\n",
      "f1: 0.93\n",
      "AUROC: 0.97\n",
      "f1: 0.95\n",
      "AUROC: 1.00\n",
      "f1: 0.94\n",
      "AUROC: 1.00\n",
      "f1: 0.99\n"
     ]
    }
   ],
   "source": [
    "forest = RandomForestClassifier(n_estimators=150,)\n",
    "\n",
    "mod = forest\n",
    "\n",
    "kf = KFold(n_splits=4)\n",
    "\n",
    "for train_index, test_index in kf.split(X):\n",
    "    X_train = X[train_index,:]\n",
    "    X_test = X[test_index,:]\n",
    "    y_train = y[train_index]\n",
    "    y_test = y[test_index]\n",
    "    \n",
    "    fit = mod.fit(X_train,y_train)\n",
    "    y_pred = fit.predict_proba(X_test)[:, 1]\n",
    "    fpr_rt_lm, tpr_rt_lm, _ = roc_curve(y_test, y_pred)\n",
    "    print('AUROC: %3.2f' % roc_auc_score(y_test,y_pred))\n",
    "    print('f1: %3.2f' % f1_score(y_test,fit.predict(X_test)))\n",
    "    "
   ]
  },
  {
   "cell_type": "markdown",
   "metadata": {},
   "source": [
    "### ROC Curve for RF"
   ]
  },
  {
   "cell_type": "code",
   "execution_count": 191,
   "metadata": {
    "collapsed": false
   },
   "outputs": [
    {
     "data": {
      "image/png": "[encoded data removed]",
      "text/plain": [
       "<matplotlib.figure.Figure at 0x11b766630>"
      ]
     },
     "metadata": {},
     "output_type": "display_data"
    }
   ],
   "source": [
    "plt.figure(1)\n",
    "plt.plot([0, 1], [0, 1], 'k--')\n",
    "plt.plot(fpr_rt_lm, tpr_rt_lm)\n",
    "plt.xlabel('False positive rate')\n",
    "plt.ylabel('True positive rate')\n",
    "plt.title('ROC curve - RF')\n",
    "# plt.legend(loc='best')\n",
    "plt.show()"
   ]
  },
  {
   "cell_type": "markdown",
   "metadata": {},
   "source": [
    "### Feature Importance\n",
    "It looks like Clump Thickness, Uniform Cell Size and Uniform Cell Shape are most informative for the classification"
   ]
  },
  {
   "cell_type": "code",
   "execution_count": 192,
   "metadata": {
    "collapsed": false
   },
   "outputs": [
    {
     "name": "stdout",
     "output_type": "stream",
     "text": [
      "Feature ranking:\n",
      "1.  clump_thick (0.250791)\n",
      "2.  unif_size (0.222201)\n",
      "3.  unif_shape (0.202962)\n",
      "4.  marg_adhesion (0.090788)\n",
      "5.  epith_size (0.072046)\n",
      "6.  bare_nuclei (0.071142)\n",
      "7.  bland_chromatin (0.057374)\n",
      "8.  norm_nucleoli (0.022434)\n",
      "9.  mitoses (0.010262)\n"
     ]
    },
    {
     "data": {
      "image/png": "[encoded data removed]",
      "text/plain": [
       "<matplotlib.figure.Figure at 0x11ba37dd8>"
      ]
     },
     "metadata": {},
     "output_type": "display_data"
    }
   ],
   "source": [
    "names = df.columns[1:10]\n",
    "\n",
    "importances = mod.feature_importances_\n",
    "std = np.std([tree.feature_importances_ for tree in mod.estimators_],\n",
    "             axis=0)\n",
    "indices = np.argsort(importances)[::-1]\n",
    "\n",
    "# Print the feature ranking\n",
    "print(\"Feature ranking:\")\n",
    "\n",
    "for f in range(X.shape[1]):\n",
    "    print(\"%d.  %s (%f)\" % (f + 1, names[f], importances[indices[f]]))\n",
    "\n",
    "# Plot the feature importances of the forest\n",
    "plt.figure()\n",
    "plt.title(\"Feature importances\")\n",
    "plt.bar(range(X.shape[1]), importances[indices],\n",
    "       color=\"r\", align=\"center\")\n",
    "plt.xticks(range(X.shape[1]), names,rotation='vertical')\n",
    "\n",
    "plt.xlim([-1, X.shape[1]])\n",
    "plt.show()"
   ]
  }
 ],
 "metadata": {
  "kernelspec": {
   "display_name": "Python [conda env:my_projects_env]",
   "language": "python",
   "name": "conda-env-my_projects_env-py"
  },
  "language_info": {
   "codemirror_mode": {
    "name": "ipython",
    "version": 3
   },
   "file_extension": ".py",
   "mimetype": "text/x-python",
   "name": "python",
   "nbconvert_exporter": "python",
   "pygments_lexer": "ipython3",
   "version": "3.6.1"
  }
 },
 "nbformat": 4,
 "nbformat_minor": 2
}
