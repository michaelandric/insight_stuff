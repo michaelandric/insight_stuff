{
 "cells": [
  {
   "cell_type": "markdown",
   "metadata": {},
   "source": [
    "# Does the Referral program work?"
   ]
  },
  {
   "cell_type": "code",
   "execution_count": 10,
   "metadata": {
    "collapsed": false
   },
   "outputs": [
    {
     "name": "stderr",
     "output_type": "stream",
     "text": [
      "\n",
      "Attaching package: ‘dplyr’\n",
      "\n",
      "The following objects are masked from ‘package:stats’:\n",
      "\n",
      "    filter, lag\n",
      "\n",
      "The following objects are masked from ‘package:base’:\n",
      "\n",
      "    intersect, setdiff, setequal, union\n",
      "\n"
     ]
    }
   ],
   "source": [
    "library(dplyr)\n",
    "library(ggplot2)"
   ]
  },
  {
   "cell_type": "code",
   "execution_count": 7,
   "metadata": {
    "collapsed": false
   },
   "outputs": [
    {
     "data": {
      "text/html": [
       "<ol class=list-inline>\n",
       "\t<li>97341</li>\n",
       "\t<li>6</li>\n",
       "</ol>\n"
      ],
      "text/latex": [
       "\\begin{enumerate*}\n",
       "\\item 97341\n",
       "\\item 6\n",
       "\\end{enumerate*}\n"
      ],
      "text/markdown": [
       "1. 97341\n",
       "2. 6\n",
       "\n",
       "\n"
      ],
      "text/plain": [
       "[1] 97341     6"
      ]
     },
     "execution_count": 7,
     "metadata": {},
     "output_type": "execute_result"
    }
   ],
   "source": [
    "df <- read.csv('referral.csv')\n",
    "dim(df)"
   ]
  },
  {
   "cell_type": "code",
   "execution_count": 8,
   "metadata": {
    "collapsed": false,
    "scrolled": true
   },
   "outputs": [
    {
     "data": {
      "text/plain": [
       "    user_id              date          country       money_spent    \n",
       " Min.   :    1   2015-11-14: 3303   UK     :15493   Min.   : 10.00  \n",
       " 1st Qu.: 2020   2015-11-15: 3283   FR     :15396   1st Qu.: 27.00  \n",
       " Median : 4053   2015-10-31: 3233   US     :15280   Median : 42.00  \n",
       " Mean   : 6355   2015-11-22: 3220   IT     :11446   Mean   : 44.69  \n",
       " 3rd Qu.:10286   2015-11-21: 3209   DE     :11093   3rd Qu.: 59.00  \n",
       " Max.   :20000   2015-11-08: 3164   ES     : 9831   Max.   :220.00  \n",
       "                 (Other)   :77929   (Other):18802                   \n",
       "  is_referral             device_id    \n",
       " Min.   :0.0000   JOVUEUUQPQVXO:   35  \n",
       " 1st Qu.:0.0000   XLJODRPXYKPRO:   34  \n",
       " Median :0.0000   KRGUOOGZKNQRQ:   33  \n",
       " Mean   :0.2878   KQMNMACBAEKPP:   32  \n",
       " 3rd Qu.:1.0000   NWJQZEWLIUYHW:   30  \n",
       " Max.   :1.0000   OMCIHDOOQWZIG:   30  \n",
       "                  (Other)      :97147  "
      ]
     },
     "execution_count": 8,
     "metadata": {},
     "output_type": "execute_result"
    }
   ],
   "source": [
    "summary(df)"
   ]
  },
  {
   "cell_type": "code",
   "execution_count": 13,
   "metadata": {
    "collapsed": false
   },
   "outputs": [
    {
     "name": "stdout",
     "output_type": "stream",
     "text": [
      " Factor w/ 56 levels \"2015-10-03\",\"2015-10-04\",..: 1\n"
     ]
    }
   ],
   "source": [
    "df$date[1:10][1])"
   ]
  },
  {
   "cell_type": "code",
   "execution_count": 14,
   "metadata": {
    "collapsed": true
   },
   "outputs": [],
   "source": [
    "purchase_date <- as.Date(df$date)"
   ]
  },
  {
   "cell_type": "code",
   "execution_count": 23,
   "metadata": {
    "collapsed": false
   },
   "outputs": [
    {
     "data": {
      "text/html": [
       "<table>\n",
       "<thead><tr><th></th><th scope=col>user_id</th><th scope=col>date</th><th scope=col>country</th><th scope=col>money_spent</th><th scope=col>is_referral</th><th scope=col>device_id</th></tr></thead>\n",
       "<tbody>\n",
       "\t<tr><th scope=row>1</th><td>2</td><td>2015-10-03</td><td>FR</td><td>65</td><td>0</td><td>EVDCJTZMVMJDG</td></tr>\n",
       "\t<tr><th scope=row>8421</th><td>2</td><td>2015-10-07</td><td>US</td><td>16</td><td>0</td><td>YIRWMFPOBTDTK</td></tr>\n",
       "\t<tr><th scope=row>11762</th><td>2</td><td>2015-10-10</td><td>IT</td><td>35</td><td>0</td><td>YIRWMFPOBTDTK</td></tr>\n",
       "\t<tr><th scope=row>11763</th><td>2</td><td>2015-10-10</td><td>FR</td><td>43</td><td>0</td><td>YIRWMFPOBTDTK</td></tr>\n",
       "\t<tr><th scope=row>11764</th><td>2</td><td>2015-10-10</td><td>US</td><td>21</td><td>0</td><td>YIRWMFPOBTDTK</td></tr>\n",
       "\t<tr><th scope=row>18995</th><td>2</td><td>2015-10-13</td><td>UK</td><td>24</td><td>0</td><td>YIRWMFPOBTDTK</td></tr>\n",
       "\t<tr><th scope=row>23449</th><td>2</td><td>2015-10-17</td><td>UK</td><td>20</td><td>0</td><td>YIRWMFPOBTDTK</td></tr>\n",
       "\t<tr><th scope=row>23450</th><td>2</td><td>2015-10-17</td><td>ES</td><td>42</td><td>0</td><td>YIRWMFPOBTDTK</td></tr>\n",
       "\t<tr><th scope=row>26517</th><td>2</td><td>2015-10-18</td><td>FR</td><td>94</td><td>0</td><td>YIRWMFPOBTDTK</td></tr>\n",
       "\t<tr><th scope=row>38325</th><td>2</td><td>2015-10-25</td><td>DE</td><td>51</td><td>0</td><td>YIRWMFPOBTDTK</td></tr>\n",
       "\t<tr><th scope=row>41476</th><td>2</td><td>2015-10-26</td><td>CA</td><td>82</td><td>0</td><td>YIRWMFPOBTDTK</td></tr>\n",
       "\t<tr><th scope=row>46154</th><td>2</td><td>2015-10-30</td><td>UK</td><td>11</td><td>0</td><td>YIRWMFPOBTDTK</td></tr>\n",
       "\t<tr><th scope=row>84800</th><td>2</td><td>2015-11-21</td><td>ES</td><td>48</td><td>0</td><td>YIRWMFPOBTDTK</td></tr>\n",
       "\t<tr><th scope=row>84801</th><td>2</td><td>2015-11-21</td><td>IT</td><td>46</td><td>0</td><td>YIRWMFPOBTDTK</td></tr>\n",
       "</tbody>\n",
       "</table>\n"
      ],
      "text/latex": [
       "\\begin{tabular}{r|llllll}\n",
       "  & user_id & date & country & money_spent & is_referral & device_id\\\\\n",
       "\\hline\n",
       "\t1 & 2 & 2015-10-03 & FR & 65 & 0 & EVDCJTZMVMJDG\\\\\n",
       "\t8421 & 2 & 2015-10-07 & US & 16 & 0 & YIRWMFPOBTDTK\\\\\n",
       "\t11762 & 2 & 2015-10-10 & IT & 35 & 0 & YIRWMFPOBTDTK\\\\\n",
       "\t11763 & 2 & 2015-10-10 & FR & 43 & 0 & YIRWMFPOBTDTK\\\\\n",
       "\t11764 & 2 & 2015-10-10 & US & 21 & 0 & YIRWMFPOBTDTK\\\\\n",
       "\t18995 & 2 & 2015-10-13 & UK & 24 & 0 & YIRWMFPOBTDTK\\\\\n",
       "\t23449 & 2 & 2015-10-17 & UK & 20 & 0 & YIRWMFPOBTDTK\\\\\n",
       "\t23450 & 2 & 2015-10-17 & ES & 42 & 0 & YIRWMFPOBTDTK\\\\\n",
       "\t26517 & 2 & 2015-10-18 & FR & 94 & 0 & YIRWMFPOBTDTK\\\\\n",
       "\t38325 & 2 & 2015-10-25 & DE & 51 & 0 & YIRWMFPOBTDTK\\\\\n",
       "\t41476 & 2 & 2015-10-26 & CA & 82 & 0 & YIRWMFPOBTDTK\\\\\n",
       "\t46154 & 2 & 2015-10-30 & UK & 11 & 0 & YIRWMFPOBTDTK\\\\\n",
       "\t84800 & 2 & 2015-11-21 & ES & 48 & 0 & YIRWMFPOBTDTK\\\\\n",
       "\t84801 & 2 & 2015-11-21 & IT & 46 & 0 & YIRWMFPOBTDTK\\\\\n",
       "\\end{tabular}\n"
      ],
      "text/plain": [
       "      user_id       date country money_spent is_referral     device_id\n",
       "1           2 2015-10-03      FR          65           0 EVDCJTZMVMJDG\n",
       "8421        2 2015-10-07      US          16           0 YIRWMFPOBTDTK\n",
       "11762       2 2015-10-10      IT          35           0 YIRWMFPOBTDTK\n",
       "11763       2 2015-10-10      FR          43           0 YIRWMFPOBTDTK\n",
       "11764       2 2015-10-10      US          21           0 YIRWMFPOBTDTK\n",
       "18995       2 2015-10-13      UK          24           0 YIRWMFPOBTDTK\n",
       "23449       2 2015-10-17      UK          20           0 YIRWMFPOBTDTK\n",
       "23450       2 2015-10-17      ES          42           0 YIRWMFPOBTDTK\n",
       "26517       2 2015-10-18      FR          94           0 YIRWMFPOBTDTK\n",
       "38325       2 2015-10-25      DE          51           0 YIRWMFPOBTDTK\n",
       "41476       2 2015-10-26      CA          82           0 YIRWMFPOBTDTK\n",
       "46154       2 2015-10-30      UK          11           0 YIRWMFPOBTDTK\n",
       "84800       2 2015-11-21      ES          48           0 YIRWMFPOBTDTK\n",
       "84801       2 2015-11-21      IT          46           0 YIRWMFPOBTDTK"
      ]
     },
     "execution_count": 23,
     "metadata": {},
     "output_type": "execute_result"
    }
   ],
   "source": [
    "df[which(df$user_id == 2),]"
   ]
  },
  {
   "cell_type": "code",
   "execution_count": 24,
   "metadata": {
    "collapsed": true
   },
   "outputs": [],
   "source": [
    "start_date <- as.Date(\"2015-10-31\")"
   ]
  },
  {
   "cell_type": "code",
   "execution_count": null,
   "metadata": {
    "collapsed": true
   },
   "outputs": [],
   "source": []
  },
  {
   "cell_type": "code",
   "execution_count": 27,
   "metadata": {
    "collapsed": false
   },
   "outputs": [
    {
     "name": "stderr",
     "output_type": "stream",
     "text": [
      "Warning message:\n",
      "In eval(expr, envir, enclos): Incompatible methods (\"Ops.factor\", \"Ops.Date\") for \"<\""
     ]
    },
    {
     "data": {
      "text/html": [
       "97341"
      ],
      "text/latex": [
       "97341"
      ],
      "text/markdown": [
       "97341"
      ],
      "text/plain": [
       "[1] 97341"
      ]
     },
     "execution_count": 27,
     "metadata": {},
     "output_type": "execute_result"
    }
   ],
   "source": [
    "#bp <- ggplot(df, aes(is_referral, money_spent, fill=factor()))"
   ]
  }
 ],
 "metadata": {
  "kernelspec": {
   "display_name": "R",
   "language": "R",
   "name": "ir"
  },
  "language_info": {
   "codemirror_mode": "r",
   "file_extension": ".r",
   "mimetype": "text/x-r-source",
   "name": "R",
   "pygments_lexer": "r",
   "version": "3.2.2"
  }
 },
 "nbformat": 4,
 "nbformat_minor": 0
}
