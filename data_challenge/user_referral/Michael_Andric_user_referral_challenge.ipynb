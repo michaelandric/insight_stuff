{
 "cells": [
  {
   "cell_type": "code",
   "execution_count": 1,
   "metadata": {
    "collapsed": true
   },
   "outputs": [],
   "source": [
    "import numpy as np\n",
    "import pandas as pd\n",
    "from __future__ import division"
   ]
  },
  {
   "cell_type": "code",
   "execution_count": 2,
   "metadata": {
    "collapsed": true
   },
   "outputs": [],
   "source": [
    "df = pd.read_csv('referral.csv')"
   ]
  },
  {
   "cell_type": "code",
   "execution_count": 3,
   "metadata": {
    "collapsed": false
   },
   "outputs": [
    {
     "name": "stdout",
     "output_type": "stream",
     "text": [
      "Are there nan? False\n",
      "Data shape, rows: 97341 x columns: 6\n",
      "(97341, 6)\n"
     ]
    },
    {
     "data": {
      "text/html": [
       "<div>\n",
       "<table border=\"1\" class=\"dataframe\">\n",
       "  <thead>\n",
       "    <tr style=\"text-align: right;\">\n",
       "      <th></th>\n",
       "      <th>user_id</th>\n",
       "      <th>money_spent</th>\n",
       "      <th>is_referral</th>\n",
       "    </tr>\n",
       "  </thead>\n",
       "  <tbody>\n",
       "    <tr>\n",
       "      <th>count</th>\n",
       "      <td>97341.000000</td>\n",
       "      <td>97341.000000</td>\n",
       "      <td>97341.000000</td>\n",
       "    </tr>\n",
       "    <tr>\n",
       "      <th>mean</th>\n",
       "      <td>6354.801029</td>\n",
       "      <td>44.692360</td>\n",
       "      <td>0.287823</td>\n",
       "    </tr>\n",
       "    <tr>\n",
       "      <th>std</th>\n",
       "      <td>5682.991186</td>\n",
       "      <td>22.791839</td>\n",
       "      <td>0.452751</td>\n",
       "    </tr>\n",
       "    <tr>\n",
       "      <th>min</th>\n",
       "      <td>1.000000</td>\n",
       "      <td>10.000000</td>\n",
       "      <td>0.000000</td>\n",
       "    </tr>\n",
       "    <tr>\n",
       "      <th>25%</th>\n",
       "      <td>2020.000000</td>\n",
       "      <td>27.000000</td>\n",
       "      <td>0.000000</td>\n",
       "    </tr>\n",
       "    <tr>\n",
       "      <th>50%</th>\n",
       "      <td>4053.000000</td>\n",
       "      <td>42.000000</td>\n",
       "      <td>0.000000</td>\n",
       "    </tr>\n",
       "    <tr>\n",
       "      <th>75%</th>\n",
       "      <td>10286.000000</td>\n",
       "      <td>59.000000</td>\n",
       "      <td>1.000000</td>\n",
       "    </tr>\n",
       "    <tr>\n",
       "      <th>max</th>\n",
       "      <td>20000.000000</td>\n",
       "      <td>220.000000</td>\n",
       "      <td>1.000000</td>\n",
       "    </tr>\n",
       "  </tbody>\n",
       "</table>\n",
       "</div>"
      ],
      "text/plain": [
       "            user_id   money_spent   is_referral\n",
       "count  97341.000000  97341.000000  97341.000000\n",
       "mean    6354.801029     44.692360      0.287823\n",
       "std     5682.991186     22.791839      0.452751\n",
       "min        1.000000     10.000000      0.000000\n",
       "25%     2020.000000     27.000000      0.000000\n",
       "50%     4053.000000     42.000000      0.000000\n",
       "75%    10286.000000     59.000000      1.000000\n",
       "max    20000.000000    220.000000      1.000000"
      ]
     },
     "execution_count": 3,
     "metadata": {},
     "output_type": "execute_result"
    }
   ],
   "source": [
    "print 'Are there nan? %s' % df.isnull().values.any()\n",
    "print 'Data shape, rows: %d x columns: %d' % (df.shape[0], df.shape[1])\n",
    "print df.shape\n",
    "df.describe()"
   ]
  },
  {
   "cell_type": "code",
   "execution_count": 4,
   "metadata": {
    "collapsed": false,
    "scrolled": true
   },
   "outputs": [
    {
     "name": "stdout",
     "output_type": "stream",
     "text": [
      "money_spent: <type 'numpy.int64'>\n"
     ]
    }
   ],
   "source": [
    "print 'money_spent: %s' % type(df.money_spent[0])"
   ]
  },
  {
   "cell_type": "code",
   "execution_count": 5,
   "metadata": {
    "collapsed": false
   },
   "outputs": [
    {
     "name": "stdout",
     "output_type": "stream",
     "text": [
      "user_id: <type 'numpy.int64'>\n",
      "date: <type 'str'>\n",
      "country: <type 'str'>\n",
      "money_spent: <type 'numpy.int64'>\n",
      "is_referral: <type 'numpy.int64'>\n",
      "device_id: <type 'str'>\n"
     ]
    }
   ],
   "source": [
    "for i in range(len(df.columns)):\n",
    "    print '%s: %s' % (df.columns[i], type(df.iloc[0, i]))\n",
    "    "
   ]
  },
  {
   "cell_type": "markdown",
   "metadata": {},
   "source": [
    "#### Assign the start date of the referral program"
   ]
  },
  {
   "cell_type": "code",
   "execution_count": 6,
   "metadata": {
    "collapsed": true
   },
   "outputs": [],
   "source": [
    "start_date = '2015-10-31'\n",
    "end_date = df['date'][-1:].values[0]\n",
    "\n",
    "mask = (df['date'] > start_date) & (df['date'] <= end_date)\n",
    "before_mask = (df['date'] <= start_date)\n",
    "\n",
    "z = {False: 'Before', True: 'After'}\n",
    "df['program_status'] = pd.Series(mask, index=df.index).map(z)\n"
   ]
  },
  {
   "cell_type": "code",
   "execution_count": 7,
   "metadata": {
    "collapsed": false
   },
   "outputs": [
    {
     "name": "stdout",
     "output_type": "stream",
     "text": [
      "referred group shape: 28017, 7\n",
      "nonreferred group shape: 69324, 7\n"
     ]
    }
   ],
   "source": [
    "referred_group = df[df['is_referral'].values == 1]\n",
    "nonreferred_group = df[df['is_referral'].values == 0]\n",
    "\n",
    "print 'referred group shape: %d, %d' % (referred_group.shape[0], referred_group.shape[1])\n",
    "print 'nonreferred group shape: %d, %d' % (nonreferred_group.shape[0], nonreferred_group.shape[1])"
   ]
  },
  {
   "cell_type": "markdown",
   "metadata": {},
   "source": [
    "(Per above:) There are far more people in the nonreferred group."
   ]
  },
  {
   "cell_type": "code",
   "execution_count": 8,
   "metadata": {
    "collapsed": true
   },
   "outputs": [],
   "source": [
    "import seaborn as sns\n",
    "import matplotlib.pyplot as plt\n",
    "%matplotlib inline"
   ]
  },
  {
   "cell_type": "code",
   "execution_count": 9,
   "metadata": {
    "collapsed": false,
    "scrolled": true
   },
   "outputs": [
    {
     "data": {
      "text/plain": [
       "<matplotlib.axes._subplots.AxesSubplot at 0x10a67f6d0>"
      ]
     },
     "execution_count": 9,
     "metadata": {},
     "output_type": "execute_result"
    },
    {
     "data": {
      "image/png": "[encoded data removed]",
      "text/plain": [
       "<matplotlib.figure.Figure at 0x10a64dd90>"
      ]
     },
     "metadata": {},
     "output_type": "display_data"
    }
   ],
   "source": [
    "referred_hist = plt.figure()\n",
    "plt.title('Referred Group Money Spent')\n",
    "referred_group.money_spent.hist()"
   ]
  },
  {
   "cell_type": "code",
   "execution_count": 10,
   "metadata": {
    "collapsed": false
   },
   "outputs": [
    {
     "data": {
      "text/plain": [
       "<matplotlib.text.Text at 0x10de88a50>"
      ]
     },
     "execution_count": 10,
     "metadata": {},
     "output_type": "execute_result"
    },
    {
     "data": {
      "image/png": "[encoded data removed]",
      "text/plain": [
       "<matplotlib.figure.Figure at 0x109645b50>"
      ]
     },
     "metadata": {},
     "output_type": "display_data"
    }
   ],
   "source": [
    "plt.figure()\n",
    "plt.xlim(df.money_spent.min(), df.money_spent.max())\n",
    "plt.hist(nonreferred_group.money_spent.values, alpha=0.6, label='nonreferred group')\n",
    "plt.hist(referred_group.money_spent.values, alpha=0.5, label='referred group')\n",
    "plt.legend()\n",
    "plt.title('Money Spent')"
   ]
  },
  {
   "cell_type": "markdown",
   "metadata": {},
   "source": [
    "#### Show the dates we're working with"
   ]
  },
  {
   "cell_type": "code",
   "execution_count": 11,
   "metadata": {
    "collapsed": false
   },
   "outputs": [
    {
     "data": {
      "text/plain": [
       "array(['2015-10-03', '2015-10-04', '2015-10-05', '2015-10-06',\n",
       "       '2015-10-07', '2015-10-08', '2015-10-09', '2015-10-10',\n",
       "       '2015-10-11', '2015-10-12', '2015-10-13', '2015-10-14',\n",
       "       '2015-10-15', '2015-10-16', '2015-10-17', '2015-10-18',\n",
       "       '2015-10-19', '2015-10-20', '2015-10-21', '2015-10-22',\n",
       "       '2015-10-23', '2015-10-24', '2015-10-25', '2015-10-26',\n",
       "       '2015-10-27', '2015-10-28', '2015-10-29', '2015-10-30',\n",
       "       '2015-10-31', '2015-11-01', '2015-11-02', '2015-11-03',\n",
       "       '2015-11-04', '2015-11-05', '2015-11-06', '2015-11-07',\n",
       "       '2015-11-08', '2015-11-09', '2015-11-10', '2015-11-11',\n",
       "       '2015-11-12', '2015-11-13', '2015-11-14', '2015-11-15',\n",
       "       '2015-11-16', '2015-11-17', '2015-11-18', '2015-11-19',\n",
       "       '2015-11-20', '2015-11-21', '2015-11-22', '2015-11-23',\n",
       "       '2015-11-24', '2015-11-25', '2015-11-26', '2015-11-27'], dtype=object)"
      ]
     },
     "execution_count": 11,
     "metadata": {},
     "output_type": "execute_result"
    }
   ],
   "source": [
    "df.date.unique()"
   ]
  },
  {
   "cell_type": "code",
   "execution_count": 12,
   "metadata": {
    "collapsed": false
   },
   "outputs": [],
   "source": [
    "df_after_program_start = df.loc[mask]\n",
    "referred_group_after_program_start = df_after_program_start[df_after_program_start['is_referral'].values == 1]\n",
    "nonreferred_group_after_program_start = df_after_program_start[df_after_program_start['is_referral'].values == 0]\n",
    "\n",
    "df_before_program_start = df.loc[before_mask]\n",
    "referred_group_before_program_start = df_before_program_start[df_before_program_start['is_referral'].values == 1]\n",
    "nonreferred_group_before_program_start = df_before_program_start[df_before_program_start['is_referral'].values == 0]"
   ]
  },
  {
   "cell_type": "code",
   "execution_count": 13,
   "metadata": {
    "collapsed": true
   },
   "outputs": [],
   "source": [
    "referred_mask = (referred_group['date'] > start_date) & (referred_group['date'] <= end_date)\n",
    "referred_before_mask = (referred_group['date'] <= start_date)\n",
    "\n",
    "nonreferred_mask = (nonreferred_group['date'] > start_date) & (nonreferred_group['date'] <= end_date)\n",
    "nonreferred_before_mask = (nonreferred_group['date'] <= start_date)"
   ]
  },
  {
   "cell_type": "markdown",
   "metadata": {},
   "source": [
    "#### Simple checks to make sure counts add up:"
   ]
  },
  {
   "cell_type": "code",
   "execution_count": 14,
   "metadata": {
    "collapsed": false
   },
   "outputs": [
    {
     "name": "stdout",
     "output_type": "stream",
     "text": [
      "(97341, 7)\n",
      "(1810, 7)\n",
      "(26207, 7)\n",
      "(48764, 7)\n",
      "(20560, 7)\n"
     ]
    }
   ],
   "source": [
    "print df.shape\n",
    "print referred_group_before_program_start.shape\n",
    "print referred_group_after_program_start.shape\n",
    "print nonreferred_group_before_program_start.shape\n",
    "print nonreferred_group_after_program_start.shape"
   ]
  },
  {
   "cell_type": "code",
   "execution_count": 15,
   "metadata": {
    "collapsed": false
   },
   "outputs": [
    {
     "data": {
      "text/plain": [
       "<matplotlib.figure.Figure at 0x10dab74d0>"
      ]
     },
     "metadata": {},
     "output_type": "display_data"
    },
    {
     "data": {
      "image/png": "[encoded data removed]",
      "text/plain": [
       "<matplotlib.figure.Figure at 0x10df008d0>"
      ]
     },
     "metadata": {},
     "output_type": "display_data"
    }
   ],
   "source": [
    "plt.figure()\n",
    "plt.figure(figsize=(7, 7), facecolor='w', edgecolor='k')\n",
    "sns.barplot(x='is_referral', y='money_spent', hue='program_status', data=df)\n",
    "plt.title('Money Spent')\n",
    "plt.show()"
   ]
  },
  {
   "cell_type": "code",
   "execution_count": 16,
   "metadata": {
    "collapsed": false
   },
   "outputs": [
    {
     "name": "stdout",
     "output_type": "stream",
     "text": [
      "69324\n",
      "69324\n"
     ]
    }
   ],
   "source": [
    "print (nonreferred_group['program_status'] == 'Before').size\n",
    "print (nonreferred_group['program_status'] == 'After').size"
   ]
  },
  {
   "cell_type": "code",
   "execution_count": 17,
   "metadata": {
    "collapsed": false
   },
   "outputs": [],
   "source": [
    "unique_users_referred_group = referred_group['user_id'].unique()\n",
    "unique_users_nonreferred_group = nonreferred_group['user_id'].unique()"
   ]
  },
  {
   "cell_type": "code",
   "execution_count": 18,
   "metadata": {
    "collapsed": false,
    "scrolled": true
   },
   "outputs": [
    {
     "data": {
      "text/html": [
       "<div>\n",
       "<table border=\"1\" class=\"dataframe\">\n",
       "  <thead>\n",
       "    <tr style=\"text-align: right;\">\n",
       "      <th></th>\n",
       "      <th>user_id</th>\n",
       "      <th>date</th>\n",
       "      <th>country</th>\n",
       "      <th>money_spent</th>\n",
       "      <th>is_referral</th>\n",
       "      <th>device_id</th>\n",
       "      <th>program_status</th>\n",
       "    </tr>\n",
       "  </thead>\n",
       "  <tbody>\n",
       "    <tr>\n",
       "      <th>48170</th>\n",
       "      <td>5016</td>\n",
       "      <td>2015-10-31</td>\n",
       "      <td>DE</td>\n",
       "      <td>45</td>\n",
       "      <td>1</td>\n",
       "      <td>OGAZARJAGCPUQ</td>\n",
       "      <td>Before</td>\n",
       "    </tr>\n",
       "    <tr>\n",
       "      <th>48171</th>\n",
       "      <td>5023</td>\n",
       "      <td>2015-10-31</td>\n",
       "      <td>US</td>\n",
       "      <td>40</td>\n",
       "      <td>1</td>\n",
       "      <td>INLYDRPTBYTGQ</td>\n",
       "      <td>Before</td>\n",
       "    </tr>\n",
       "    <tr>\n",
       "      <th>48172</th>\n",
       "      <td>5024</td>\n",
       "      <td>2015-10-31</td>\n",
       "      <td>FR</td>\n",
       "      <td>42</td>\n",
       "      <td>1</td>\n",
       "      <td>QZUBRKLLCIOQH</td>\n",
       "      <td>Before</td>\n",
       "    </tr>\n",
       "  </tbody>\n",
       "</table>\n",
       "</div>"
      ],
      "text/plain": [
       "       user_id        date country  money_spent  is_referral      device_id  \\\n",
       "48170     5016  2015-10-31      DE           45            1  OGAZARJAGCPUQ   \n",
       "48171     5023  2015-10-31      US           40            1  INLYDRPTBYTGQ   \n",
       "48172     5024  2015-10-31      FR           42            1  QZUBRKLLCIOQH   \n",
       "\n",
       "      program_status  \n",
       "48170         Before  \n",
       "48171         Before  \n",
       "48172         Before  "
      ]
     },
     "execution_count": 18,
     "metadata": {},
     "output_type": "execute_result"
    }
   ],
   "source": [
    "referred_group.head(3)"
   ]
  },
  {
   "cell_type": "code",
   "execution_count": 20,
   "metadata": {
    "collapsed": false
   },
   "outputs": [],
   "source": [
    "import statsmodels.api as sm\n",
    "from statsmodels.formula.api import ols"
   ]
  },
  {
   "cell_type": "code",
   "execution_count": 23,
   "metadata": {
    "collapsed": false
   },
   "outputs": [
    {
     "data": {
      "text/plain": [
       "12715"
      ]
     },
     "execution_count": 23,
     "metadata": {},
     "output_type": "execute_result"
    }
   ],
   "source": [
    "len(unique_users_referred_group)"
   ]
  },
  {
   "cell_type": "code",
   "execution_count": 217,
   "metadata": {
    "collapsed": false
   },
   "outputs": [],
   "source": [
    "lm_referred = ols('money_spent ~ C(program_status, Sum)', data=referred_group).fit()"
   ]
  },
  {
   "cell_type": "code",
   "execution_count": 219,
   "metadata": {
    "collapsed": false
   },
   "outputs": [
    {
     "name": "stdout",
     "output_type": "stream",
     "text": [
      "                           df           sum_sq     mean_sq         F    PR(>F)\n",
      "C(program_status, Sum)      1       244.489011  244.489011  0.410757  0.521591\n",
      "Residual                28015  16674966.956612  595.215669       NaN       NaN\n"
     ]
    }
   ],
   "source": [
    "print sm.stats.anova_lm(lm_referred, typ=1) # Type 2 ANOVA DataFrame"
   ]
  },
  {
   "cell_type": "code",
   "execution_count": 221,
   "metadata": {
    "collapsed": false
   },
   "outputs": [
    {
     "name": "stdout",
     "output_type": "stream",
     "text": [
      "                                    df           sum_sq        mean_sq  \\\n",
      "C(program_status * is_referral)      2    203230.754561  101615.377280   \n",
      "Residual                         97338  50361778.653455     517.390728   \n",
      "\n",
      "                                          F        PR(>F)  \n",
      "C(program_status * is_referral)  196.399688  7.522096e-86  \n",
      "Residual                                NaN           NaN  \n"
     ]
    }
   ],
   "source": [
    "lm_referred = ols('money_spent ~ C(program_status*is_referral) + C(is_referral)', data=df).fit()\n",
    "print sm.stats.anova_lm(lm_referred, typ=1) # Type 2 ANOVA DataFrame"
   ]
  },
  {
   "cell_type": "code",
   "execution_count": 224,
   "metadata": {
    "collapsed": true
   },
   "outputs": [],
   "source": [
    "import statsmodels.formula.api as smf"
   ]
  },
  {
   "cell_type": "code",
   "execution_count": null,
   "metadata": {
    "collapsed": false
   },
   "outputs": [],
   "source": [
    "#mixedlm(\"Weight ~ Time\", data, groups=data[\"Pig\"])\n",
    "mixed_fit = smf.mixedlm(\"money_spent ~ program_status\", df, groups=df['is_referral']).fit()"
   ]
  },
  {
   "cell_type": "code",
   "execution_count": null,
   "metadata": {
    "collapsed": true
   },
   "outputs": [],
   "source": [
    "print(mdf.summary())"
   ]
  }
 ],
 "metadata": {
  "anaconda-cloud": {},
  "kernelspec": {
   "display_name": "Python 2",
   "language": "python",
   "name": "python2"
  },
  "language_info": {
   "codemirror_mode": {
    "name": "ipython",
    "version": 2
   },
   "file_extension": ".py",
   "mimetype": "text/x-python",
   "name": "python",
   "nbconvert_exporter": "python",
   "pygments_lexer": "ipython2",
   "version": "2.7.11"
  }
 },
 "nbformat": 4,
 "nbformat_minor": 0
}
